{
 "cells": [
  {
   "cell_type": "code",
   "execution_count": 1,
   "metadata": {},
   "outputs": [],
   "source": [
    "import pandas as pd"
   ]
  },
  {
   "cell_type": "markdown",
   "metadata": {},
   "source": [
    "## Load data"
   ]
  },
  {
   "cell_type": "code",
   "execution_count": 2,
   "metadata": {},
   "outputs": [],
   "source": [
    "train = pd.read_csv('../Dataset/ViCTSD/ViCTSD_train.csv')"
   ]
  },
  {
   "cell_type": "code",
   "execution_count": 3,
   "metadata": {},
   "outputs": [
    {
     "data": {
      "text/html": [
       "<div>\n",
       "<style scoped>\n",
       "    .dataframe tbody tr th:only-of-type {\n",
       "        vertical-align: middle;\n",
       "    }\n",
       "\n",
       "    .dataframe tbody tr th {\n",
       "        vertical-align: top;\n",
       "    }\n",
       "\n",
       "    .dataframe thead th {\n",
       "        text-align: right;\n",
       "    }\n",
       "</style>\n",
       "<table border=\"1\" class=\"dataframe\">\n",
       "  <thead>\n",
       "    <tr style=\"text-align: right;\">\n",
       "      <th></th>\n",
       "      <th>Unnamed: 0</th>\n",
       "      <th>Comment</th>\n",
       "      <th>Constructiveness</th>\n",
       "      <th>Toxicity</th>\n",
       "      <th>Title</th>\n",
       "      <th>Topic</th>\n",
       "    </tr>\n",
       "  </thead>\n",
       "  <tbody>\n",
       "    <tr>\n",
       "      <th>0</th>\n",
       "      <td>6326</td>\n",
       "      <td>Thật tuyệt vời...!!!</td>\n",
       "      <td>0</td>\n",
       "      <td>0</td>\n",
       "      <td>Những 'bước tiến diệu kỳ' của Trúc Nhi - Diệu Nhi</td>\n",
       "      <td>SucKhoe</td>\n",
       "    </tr>\n",
       "    <tr>\n",
       "      <th>1</th>\n",
       "      <td>7835</td>\n",
       "      <td>mỹ đã tuột dốc quá nhiều rồi, giờ muốn vực dậy...</td>\n",
       "      <td>1</td>\n",
       "      <td>0</td>\n",
       "      <td>Hình tượng Mỹ sụp đổ trong lòng người dân thế ...</td>\n",
       "      <td>TheGioi</td>\n",
       "    </tr>\n",
       "    <tr>\n",
       "      <th>2</th>\n",
       "      <td>4690</td>\n",
       "      <td>tôi thấy người lái xe hơi bấm còi mới là người...</td>\n",
       "      <td>1</td>\n",
       "      <td>1</td>\n",
       "      <td>Cả trăm người đạp xe thể dục bịt kín đường</td>\n",
       "      <td>OtoXemay</td>\n",
       "    </tr>\n",
       "    <tr>\n",
       "      <th>3</th>\n",
       "      <td>6011</td>\n",
       "      <td>Coi dịch là giặc. Đã mang tên đó mà xâm nhập V...</td>\n",
       "      <td>0</td>\n",
       "      <td>0</td>\n",
       "      <td>11 ngày không lây nhiễm nCoV cộng đồng</td>\n",
       "      <td>SucKhoe</td>\n",
       "    </tr>\n",
       "    <tr>\n",
       "      <th>4</th>\n",
       "      <td>9303</td>\n",
       "      <td>Thương các bé quá! Các con còn quá nhỏ mà đã p...</td>\n",
       "      <td>0</td>\n",
       "      <td>0</td>\n",
       "      <td>5 trẻ chết đuối dưới ao</td>\n",
       "      <td>ThoiSu</td>\n",
       "    </tr>\n",
       "  </tbody>\n",
       "</table>\n",
       "</div>"
      ],
      "text/plain": [
       "   Unnamed: 0                                            Comment  \\\n",
       "0        6326                               Thật tuyệt vời...!!!   \n",
       "1        7835  mỹ đã tuột dốc quá nhiều rồi, giờ muốn vực dậy...   \n",
       "2        4690  tôi thấy người lái xe hơi bấm còi mới là người...   \n",
       "3        6011  Coi dịch là giặc. Đã mang tên đó mà xâm nhập V...   \n",
       "4        9303  Thương các bé quá! Các con còn quá nhỏ mà đã p...   \n",
       "\n",
       "   Constructiveness  Toxicity  \\\n",
       "0                 0         0   \n",
       "1                 1         0   \n",
       "2                 1         1   \n",
       "3                 0         0   \n",
       "4                 0         0   \n",
       "\n",
       "                                               Title     Topic  \n",
       "0  Những 'bước tiến diệu kỳ' của Trúc Nhi - Diệu Nhi   SucKhoe  \n",
       "1  Hình tượng Mỹ sụp đổ trong lòng người dân thế ...   TheGioi  \n",
       "2         Cả trăm người đạp xe thể dục bịt kín đường  OtoXemay  \n",
       "3             11 ngày không lây nhiễm nCoV cộng đồng   SucKhoe  \n",
       "4                            5 trẻ chết đuối dưới ao    ThoiSu  "
      ]
     },
     "execution_count": 3,
     "metadata": {},
     "output_type": "execute_result"
    }
   ],
   "source": [
    "train.head()"
   ]
  },
  {
   "cell_type": "code",
   "execution_count": 4,
   "metadata": {},
   "outputs": [
    {
     "name": "stdout",
     "output_type": "stream",
     "text": [
      "Toxicity\n",
      "0    6241\n",
      "1     759\n",
      "Name: count, dtype: int64\n"
     ]
    }
   ],
   "source": [
    "print(train['Toxicity'].value_counts())"
   ]
  },
  {
   "cell_type": "markdown",
   "metadata": {},
   "source": [
    "## Remove duplicates"
   ]
  },
  {
   "cell_type": "code",
   "execution_count": 5,
   "metadata": {},
   "outputs": [
    {
     "name": "stdout",
     "output_type": "stream",
     "text": [
      "Unnamed: 0  Comment                                                                                                                                                                                                                                      Constructiveness  Toxicity  Title                                                       Topic   \n",
      "1042        Hy vọng các em nhỏ không sao.                                                                                                                                                                                                                0                 0         57 học sinh nhập viện sau bữa ăn trưa                       GiaoDuc     1\n",
      "4085        Theo e thì cứ xe mới mà quất. Ngày xưa ck e k nghe e đổi 3 lần xe lần t4 là e k nghe theo e quyêt vay mượn thêm ít đổi xe mới. Xe cũ 9 năm rồi đi thời gian k hỏng cái nọ thì hỏng cái kia. I10 đi cũng thoải mái lắm bác, vừa giá tiền nữa  1                 0         200 triệu mua được i10 hoặc Morning nào?                    OtoXemay    1\n",
      "9618        Cầu mong mọi người bình an!                                                                                                                                                                                                                  0                 0         Bão gây mưa to từ chiều 17/9                                ThoiSu      1\n",
      "9101        Cầu mong các con bình an!                                                                                                                                                                                                                    0                 0         32 học sinh nhập viện, nghi ngộ độc thực phẩm               ThoiSu      1\n",
      "9099        Thời gian gần đây, học sinh đi học nhiều nguy hiểm quá! Nào là cây đổ, cổng trường sập giờ lại cả ngộ độc thực phẩm....                                                                                                                      1                 0         32 học sinh nhập viện, nghi ngộ độc thực phẩm               ThoiSu      1\n",
      "7888        Cầu mong thế giới bình an!                                                                                                                                                                                                                   0                 0         Hơn 63 triệu người Ấn Độ có thể đã nhiễm Covid-19           TheGioi     1\n",
      "7886        Cầu mong thế giới bình an!                                                                                                                                                                                                                   0                 0         Covid ngày 1/10: Hơn 34 triệu người nhiễm nCoV toàn cầu     TheGioi     1\n",
      "7877        Cầu mong thế giới bình an!                                                                                                                                                                                                                   0                 0         Covid ngày 30/9: Hơn 33,7 triệu người nhiễm nCoV toàn cầu   TheGioi     1\n",
      "7871        Cầu mong thế giới bình an!                                                                                                                                                                                                                   0                 0         Hơn 33,5 triệu người nhiễm nCoV toàn cầu                    TheGioi     1\n",
      "7397        Cầu mong thế giới bình an!                                                                                                                                                                                                                   0                 0         Cả gia đình nhiễm nCoV sau khi mất nhà vì cháy rừng         TheGioi     1\n",
      "7294        Hãy dồn phiếu cho TT Trump . Xin cám ơn                                                                                                                                                                                                      0                 0         Biden so sánh Trump với bộ trưởng tuyên truyền Đức Quốc xã  TheGioi     1\n",
      "7096        Tự hào Việt Nam.                                                                                                                                                                                                                             0                 0         Báo Anh ca ngợi Việt Nam đánh bại Covid-19 lần hai          TheGioi     1\n",
      "7063        Cầu mong ông sớm khỏe mạnh                                                                                                                                                                                                                   0                 0         Bác sĩ nói Trump vẫn 'chưa hết nguy hiểm'                   TheGioi     1\n",
      "6738        Việt Nam cố lên! Đất nước chiến thắng!                                                                                                                                                                                                       0                 0         Bảy ngày không lây nhiễm nCoV cộng đồng                     SucKhoe     1\n",
      "6540        Việt Nam cố lên! Đất nước chiến thắng!                                                                                                                                                                                                       0                 0         Ba người nhập cảnh nhiễm nCoV                               SucKhoe     1\n",
      "6527        Việt Nam cố lên! Đất nước chiến thắng!                                                                                                                                                                                                       0                 0         Ba ngày không lây nhiễm nCoV cộng đồng                      SucKhoe     1\n",
      "6503        Cầu mong mọi người bình an! Việt Nam cố lên! Đất nước chiến thắng!                                                                                                                                                                           0                 0         Ba chuyên gia nước ngoài nhập cảnh nhiễm nCoV               SucKhoe     1\n",
      "6311        Việt Nam cố lên! Đất nước chiến thắng!                                                                                                                                                                                                       0                 0         5 người nhập cảnh nhiễm nCoV                                SucKhoe     1\n",
      "6258        Cầu mong mọi người bình an! Việt Nam cố lên! Đất nước chiến thắng!                                                                                                                                                                           0                 0         29 ngày không lây nhiễm nCoV cộng đồng                      SucKhoe     1\n",
      "6214        Cầu mong mọi người bình an! Việt Nam cố lên! Đất nước chiến thắng!                                                                                                                                                                           0                 0         26 ngày không lây nhiễm nCoV cộng đồng                      SucKhoe     1\n",
      "6207        Cầu mong mọi người bình an!                                                                                                                                                                                                                  0                 0         25 ngày không lây nhiễm nCoV cộng đồng                      SucKhoe     1\n",
      "6199        Cầu mong mọi người bình an! Việt Nam cố lên! Đất nước chiến thắng!                                                                                                                                                                           0                 0         23 ngày không lây nhiễm nCoV cộng đồng                      SucKhoe     1\n",
      "6197        Cầu mong mọi người bình an! Việt Nam cố lên! Đất nước chiến thắng!                                                                                                                                                                           0                 0         22 ngày không lây nhiễm nCoV cộng đồng                      SucKhoe     1\n",
      "6190        Cầu mong mọi người bình an! Việt Nam cố lên! Đất nước chiến thắng!                                                                                                                                                                           0                 0         21 ngày không lây nhiễm nCoV cộng đồng                      SucKhoe     1\n",
      "6141        Cầu mong mọi người bình an! Việt Nam cố lên! Đất nước chiến thắng!                                                                                                                                                                           0                 0         19 ngày không lây nhiễm nCoV cộng đồng                      SucKhoe     1\n",
      "4326        Tôi thì là fan của Toy nhưng trên quan điểm cá nhân tôi đánh giá xe i10(huyndai) hơn xe Vin                                                                                                                                                  1                 0         400 triệu nên mua Hyundai i10 hay VinFast Fadil?            OtoXemay    1\n",
      "4298        I10 gần như ko có đối thủ trong cùng phân khúc, đẹp phết                                                                                                                                                                                     1                 0         400 triệu nên mua Hyundai i10 hay VinFast Fadil?            OtoXemay    1\n",
      "4229        Mua xe gì cũng được, trừ Toyota ra                                                                                                                                                                                                        0                 0         400 triệu mua xe cũ nào không hỏng vặt?                     OtoXemay    1\n",
      "4088        i10 đi cho nó máu bác ạ, nhỏ gọn đi trong nội thành hoặc đi công tác gần xa đều đầm chắc,suýt soát đầu phân khúc cứ chọn i10 là đạt điểm 10                                                                                                  1                 0         200 triệu mua được i10 hoặc Morning nào?                    OtoXemay    1\n",
      "9907        Cầu mong mọi người bình an! Việt Nam cố lên! Đất nước chiến thắng!                                                                                                                                                                           0                 0         Bốn nguy cơ lây nhiễm Covid-19 ở Việt Nam                   ThoiSu      1\n",
      "Name: count, dtype: int64\n"
     ]
    }
   ],
   "source": [
    "duplicate_rows = train[train['Comment'].duplicated()]\n",
    "print(duplicate_rows.value_counts())"
   ]
  },
  {
   "cell_type": "code",
   "execution_count": 6,
   "metadata": {},
   "outputs": [],
   "source": [
    "# Drop duplicates, keep first occurence, make changes directly to the dataframe\n",
    "train.drop_duplicates(subset='Comment', keep='first', inplace=True)"
   ]
  },
  {
   "cell_type": "markdown",
   "metadata": {},
   "source": [
    "## Remove special characters"
   ]
  },
  {
   "cell_type": "markdown",
   "metadata": {},
   "source": [
    "### URL"
   ]
  },
  {
   "cell_type": "code",
   "execution_count": 20,
   "metadata": {},
   "outputs": [
    {
     "name": "stdout",
     "output_type": "stream",
     "text": [
      "      Unnamed: 0                                            Comment  \\\n",
      "1444        2900  Câu trả lời cho bạn trong bài viết này https:/...   \n",
      "\n",
      "      Constructiveness  Toxicity                                      Title  \\\n",
      "1444                 0         0  Con hà xuyên thủng sắt, đá bằng cách nào?   \n",
      "\n",
      "        Topic  \n",
      "1444  KhoaHoc  \n"
     ]
    }
   ],
   "source": [
    "# Create a boolean mask for rows that contain a URL\n",
    "mask = train['Comment'].str.contains(r'http\\S+|www\\S+', regex=True)\n",
    "\n",
    "# Use the mask to select a subset of the DataFrame\n",
    "url_examples = train[mask]\n",
    "\n",
    "# Print the first few examples\n",
    "print(url_examples.head())"
   ]
  },
  {
   "cell_type": "code",
   "execution_count": 21,
   "metadata": {},
   "outputs": [
    {
     "name": "stdout",
     "output_type": "stream",
     "text": [
      "Câu trả lời cho bạn trong bài viết này https://vnexpress.net/dau-la-bi-quyet-sieu-dinh-cua-trai-hau-1995946.html\n"
     ]
    }
   ],
   "source": [
    "print(train.loc[1444, 'Comment'])"
   ]
  },
  {
   "cell_type": "code",
   "execution_count": 23,
   "metadata": {},
   "outputs": [],
   "source": [
    "# URL removal\n",
    "train['Comment'] = train['Comment'].str.replace(\n",
    "    r'http\\S+', '', regex=True).replace(r'www\\S+', '', regex=True)"
   ]
  },
  {
   "cell_type": "markdown",
   "metadata": {},
   "source": [
    "### Punctuation"
   ]
  },
  {
   "cell_type": "code",
   "execution_count": 25,
   "metadata": {},
   "outputs": [],
   "source": [
    "train['Comment'] = train['Comment'].str.replace(r'[^\\w\\s]', '', regex=True)"
   ]
  },
  {
   "cell_type": "markdown",
   "metadata": {},
   "source": [
    "### Stopwords"
   ]
  },
  {
   "cell_type": "code",
   "execution_count": 26,
   "metadata": {},
   "outputs": [],
   "source": [
    "# Load stopwords\n",
    "with open('./Stopwords/vietnamese-stopwords.txt', 'r') as f:\n",
    "    stopwords = f.read().splitlines()\n",
    "\n",
    "# Function to remove stopwords\n",
    "\n",
    "def remove_stopwords(text):\n",
    "    words = text.split()\n",
    "    words = [word for word in words if word not in stopwords]\n",
    "    return ' '.join(words)\n",
    "\n",
    "\n",
    "# Remove stopwords from 'free_text'\n",
    "train['Comment'] = train['Comment'].apply(remove_stopwords)"
   ]
  },
  {
   "cell_type": "markdown",
   "metadata": {},
   "source": [
    "## Save cleaned data"
   ]
  },
  {
   "cell_type": "code",
   "execution_count": 27,
   "metadata": {},
   "outputs": [],
   "source": [
    "train.to_csv('../Dataset_Cleaned/clean_train_victsd.csv', index=False)"
   ]
  }
 ],
 "metadata": {
  "kernelspec": {
   "display_name": "vihsd",
   "language": "python",
   "name": "python3"
  },
  "language_info": {
   "codemirror_mode": {
    "name": "ipython",
    "version": 3
   },
   "file_extension": ".py",
   "mimetype": "text/x-python",
   "name": "python",
   "nbconvert_exporter": "python",
   "pygments_lexer": "ipython3",
   "version": "3.12.3"
  }
 },
 "nbformat": 4,
 "nbformat_minor": 2
}
