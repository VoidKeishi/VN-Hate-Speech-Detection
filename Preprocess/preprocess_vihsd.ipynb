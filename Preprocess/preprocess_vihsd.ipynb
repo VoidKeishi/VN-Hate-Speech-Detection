{
 "cells": [
  {
   "cell_type": "code",
   "execution_count": 26,
   "metadata": {},
   "outputs": [],
   "source": [
    "import pandas as pd\n",
    "import emoji\n",
    "import emoji_vietnamese\n",
    "import string"
   ]
  },
  {
   "cell_type": "markdown",
   "metadata": {},
   "source": [
    "## Table of Contents\n",
    "- [Load data](#load-data)\n",
    "- [Remove #ERROR! values](#remove-error-values)\n",
    "- [Remove duplicates](#remove-duplicates)\n",
    "- [Remove outliers](#remove-outliers)\n",
    "- [Remove special characters](#remove-special-characters)\n",
    "  - [URL](#remove-url)\n",
    "  - [Punctuation](#remove-punctuation)\n",
    "  - [Stopwords](#remove-stopwords)\n",
    "- [Lowercasing](#lowercasing)\n",
    "- [Emoji processing](#emoji-processing)\n",
    "- [Save cleaned data](#save-cleaned-data)"
   ]
  },
  {
   "cell_type": "markdown",
   "metadata": {},
   "source": [
    "## Load data"
   ]
  },
  {
   "cell_type": "code",
   "execution_count": 27,
   "metadata": {},
   "outputs": [],
   "source": [
    "train = pd.read_csv('../Dataset/vihsd/train.csv')"
   ]
  },
  {
   "cell_type": "code",
   "execution_count": 28,
   "metadata": {},
   "outputs": [
    {
     "data": {
      "text/html": [
       "<div>\n",
       "<style scoped>\n",
       "    .dataframe tbody tr th:only-of-type {\n",
       "        vertical-align: middle;\n",
       "    }\n",
       "\n",
       "    .dataframe tbody tr th {\n",
       "        vertical-align: top;\n",
       "    }\n",
       "\n",
       "    .dataframe thead th {\n",
       "        text-align: right;\n",
       "    }\n",
       "</style>\n",
       "<table border=\"1\" class=\"dataframe\">\n",
       "  <thead>\n",
       "    <tr style=\"text-align: right;\">\n",
       "      <th></th>\n",
       "      <th>free_text</th>\n",
       "      <th>label_id</th>\n",
       "    </tr>\n",
       "  </thead>\n",
       "  <tbody>\n",
       "    <tr>\n",
       "      <th>0</th>\n",
       "      <td>Em được làm fan cứng luôn rồi nè ❤️ reaction q...</td>\n",
       "      <td>0</td>\n",
       "    </tr>\n",
       "    <tr>\n",
       "      <th>1</th>\n",
       "      <td>Đúng là bọn mắt híp lò xo thụt :))) bên việt n...</td>\n",
       "      <td>2</td>\n",
       "    </tr>\n",
       "    <tr>\n",
       "      <th>2</th>\n",
       "      <td>Đậu Văn Cường giờ giống thằng sida hơn à</td>\n",
       "      <td>0</td>\n",
       "    </tr>\n",
       "    <tr>\n",
       "      <th>3</th>\n",
       "      <td>CÔN ĐỒ CỤC SÚC VÔ NHÂN TÍNH ĐỀ NGHI VN. NHÀ NƯ...</td>\n",
       "      <td>2</td>\n",
       "    </tr>\n",
       "    <tr>\n",
       "      <th>4</th>\n",
       "      <td>Từ lý thuyết đến thực hành là cả 1 câu chuyện ...</td>\n",
       "      <td>0</td>\n",
       "    </tr>\n",
       "  </tbody>\n",
       "</table>\n",
       "</div>"
      ],
      "text/plain": [
       "                                           free_text  label_id\n",
       "0  Em được làm fan cứng luôn rồi nè ❤️ reaction q...         0\n",
       "1  Đúng là bọn mắt híp lò xo thụt :))) bên việt n...         2\n",
       "2           Đậu Văn Cường giờ giống thằng sida hơn à         0\n",
       "3  CÔN ĐỒ CỤC SÚC VÔ NHÂN TÍNH ĐỀ NGHI VN. NHÀ NƯ...         2\n",
       "4  Từ lý thuyết đến thực hành là cả 1 câu chuyện ...         0"
      ]
     },
     "execution_count": 28,
     "metadata": {},
     "output_type": "execute_result"
    }
   ],
   "source": [
    "train.head()"
   ]
  },
  {
   "cell_type": "code",
   "execution_count": 29,
   "metadata": {},
   "outputs": [
    {
     "name": "stdout",
     "output_type": "stream",
     "text": [
      "label_id\n",
      "0    19886\n",
      "2     2556\n",
      "1     1606\n",
      "Name: count, dtype: int64\n"
     ]
    }
   ],
   "source": [
    "print(train['label_id'].value_counts())"
   ]
  },
  {
   "cell_type": "markdown",
   "metadata": {},
   "source": [
    "## Remove null values"
   ]
  },
  {
   "cell_type": "code",
   "execution_count": 30,
   "metadata": {},
   "outputs": [
    {
     "data": {
      "text/plain": [
       "free_text    2\n",
       "label_id     0\n",
       "dtype: int64"
      ]
     },
     "execution_count": 30,
     "metadata": {},
     "output_type": "execute_result"
    }
   ],
   "source": [
    "train.isnull().sum()"
   ]
  },
  {
   "cell_type": "code",
   "execution_count": 31,
   "metadata": {},
   "outputs": [],
   "source": [
    "train = train.dropna()"
   ]
  },
  {
   "cell_type": "markdown",
   "metadata": {},
   "source": [
    "## Remove #ERROR! values"
   ]
  },
  {
   "cell_type": "code",
   "execution_count": 32,
   "metadata": {},
   "outputs": [
    {
     "name": "stdout",
     "output_type": "stream",
     "text": [
      "      free_text  label_id\n",
      "1729    #ERROR!         0\n",
      "1867    #ERROR!         0\n",
      "3568    #ERROR!         0\n",
      "10788   #ERROR!         0\n",
      "11218   #ERROR!         0\n",
      "11674   #ERROR!         0\n",
      "15413   #ERROR!         0\n",
      "16080   #ERROR!         0\n",
      "18660   #ERROR!         2\n",
      "20848   #ERROR!         1\n"
     ]
    }
   ],
   "source": [
    "error_rows = train[train['free_text'].str.contains(\"#ERROR!\")]\n",
    "print(error_rows)"
   ]
  },
  {
   "cell_type": "code",
   "execution_count": 33,
   "metadata": {},
   "outputs": [],
   "source": [
    "train = train[~train['free_text'].str.contains(\"#ERROR!\")]"
   ]
  },
  {
   "cell_type": "markdown",
   "metadata": {},
   "source": [
    "## Remove duplicates"
   ]
  },
  {
   "cell_type": "code",
   "execution_count": 34,
   "metadata": {},
   "outputs": [
    {
     "name": "stdout",
     "output_type": "stream",
     "text": [
      "                                        free_text  label_id\n",
      "225                              reaction thầy ơi         0\n",
      "442                    đặt khô gà ở đâu v thầy ơi         0\n",
      "466                              Mệt quá thầy ạ 😞         0\n",
      "696                                         xin ạ         0\n",
      "790                     Tại sao phải trả lời thầy         0\n",
      "...                                           ...       ...\n",
      "23986  Đình Quang ụa đâu có giải gì bên vn đau ta         0\n",
      "23992                        Thành Huy Hoàng Tiến         0\n",
      "24008                     Tự hào thầy Ba gold :))         0\n",
      "24010                          Lỡ tay thầy ơi :))         0\n",
      "24022                        Phong Chau cười ỉa 😂         0\n",
      "\n",
      "[1480 rows x 2 columns]\n"
     ]
    }
   ],
   "source": [
    "duplicate_rows = train[train['free_text'].duplicated()]\n",
    "print(duplicate_rows)"
   ]
  },
  {
   "cell_type": "code",
   "execution_count": 35,
   "metadata": {},
   "outputs": [],
   "source": [
    "# Drop duplicates, keep first occurence, make changes directly to the dataframe\n",
    "train.drop_duplicates(subset='free_text', keep='first', inplace=True)"
   ]
  },
  {
   "cell_type": "markdown",
   "metadata": {},
   "source": [
    "## Remove outliers\n",
    "- Some examples have a very big length of characters, not containing helpful information. We will remove them."
   ]
  },
  {
   "cell_type": "code",
   "execution_count": 36,
   "metadata": {},
   "outputs": [
    {
     "name": "stdout",
     "output_type": "stream",
     "text": [
      "14\n"
     ]
    }
   ],
   "source": [
    "num_long_rows = (train['free_text'].str.len() > 500).sum()\n",
    "print(num_long_rows)"
   ]
  },
  {
   "cell_type": "code",
   "execution_count": 37,
   "metadata": {},
   "outputs": [],
   "source": [
    "train = train[train['free_text'].str.len() <= 500]"
   ]
  },
  {
   "cell_type": "markdown",
   "metadata": {},
   "source": [
    "## Remove special characters"
   ]
  },
  {
   "cell_type": "markdown",
   "metadata": {},
   "source": [
    "### URL"
   ]
  },
  {
   "cell_type": "code",
   "execution_count": 38,
   "metadata": {},
   "outputs": [
    {
     "name": "stdout",
     "output_type": "stream",
     "text": [
      "                                              free_text  label_id\n",
      "1222  Xem ngay hậu trường cực hiếm của cô Minh Hiếu ...         0\n",
      "1432  FB chính LinDa: https://www.facebook.com/linda...         0\n",
      "1839  https://youtu.be/tvyO2B3oEYk thư giãn đã cả nh...         0\n",
      "2020     @công danh nguyen https://youtu.be/fSypgwW1L_s         0\n",
      "6891  biệt thự của nude tiger: https://www.google.co...         0\n"
     ]
    }
   ],
   "source": [
    "# Create a boolean mask for rows that contain a URL\n",
    "mask = train['free_text'].str.contains(r'http\\S+|www\\S+', regex=True)\n",
    "\n",
    "# Use the mask to select a subset of the DataFrame\n",
    "url_examples = train[mask]\n",
    "\n",
    "# Print the first few examples\n",
    "print(url_examples.head())"
   ]
  },
  {
   "cell_type": "code",
   "execution_count": 39,
   "metadata": {},
   "outputs": [],
   "source": [
    "# URL removal\n",
    "train['free_text'] = train['free_text'].str.replace(r'http\\S+', '', regex=True).replace(r'www\\S+', '', regex=True)"
   ]
  },
  {
   "cell_type": "markdown",
   "metadata": {},
   "source": [
    "### Punctuation"
   ]
  },
  {
   "cell_type": "code",
   "execution_count": 40,
   "metadata": {},
   "outputs": [],
   "source": [
    "train['free_text'] = train['free_text'].str.replace('['+string.punctuation+']', '', regex=True)"
   ]
  },
  {
   "cell_type": "markdown",
   "metadata": {},
   "source": [
    "### Stopwords\n",
    "This could led to loss of information, so I will comment this part for now."
   ]
  },
  {
   "cell_type": "code",
   "execution_count": 41,
   "metadata": {},
   "outputs": [],
   "source": [
    "# # Load stopwords\n",
    "# with open('./Stopwords/vietnamese-stopwords.txt', 'r') as f:\n",
    "#     stopwords = f.read().splitlines()\n",
    "\n",
    "# # Function to remove stopwords\n",
    "\n",
    "# def remove_stopwords(text):\n",
    "#     words = text.split()\n",
    "#     words = [word for word in words if word not in stopwords]\n",
    "#     return ' '.join(words)\n",
    "\n",
    "\n",
    "# # Remove stopwords from 'free_text'\n",
    "# train['free_text'] = train['free_text'].apply(remove_stopwords)"
   ]
  },
  {
   "cell_type": "markdown",
   "metadata": {},
   "source": [
    "## Lowercasing"
   ]
  },
  {
   "cell_type": "code",
   "execution_count": 42,
   "metadata": {},
   "outputs": [],
   "source": [
    "train['free_text'] = train['free_text'].str.lower()"
   ]
  },
  {
   "cell_type": "markdown",
   "metadata": {},
   "source": [
    "## Emoji processing"
   ]
  },
  {
   "cell_type": "code",
   "execution_count": 43,
   "metadata": {},
   "outputs": [
    {
     "name": "stdout",
     "output_type": "stream",
     "text": [
      "                                               free_text  label_id\n",
      "0      em được làm fan cứng luôn rồi nè ❤️ reaction q...         0\n",
      "8                                                    🥰🥰🥰         0\n",
      "10          được anh ưi lâu rồi không nghe phúc du rap 🤣         0\n",
      "11                      cắt cho trẻ trâu bớt thui mà 😂😂😂         0\n",
      "42                                      mệt quá thầy ạ 😞         0\n",
      "...                                                  ...       ...\n",
      "23995  thôi xong tóc a chí tôi nay làm vlog đưa djchi...         0\n",
      "24018               nguyễn loan ý anh ý là thịt a đi e 😝         0\n",
      "24034  vừa làm chiều nay xong đây  cứ chỗ uy tín mà l...         0\n",
      "24036                               cuộc sông mưu sinh 🏦         0\n",
      "24037             lại xui chị trang cho ăn đòn trận bh 🤣         0\n",
      "\n",
      "[3233 rows x 2 columns]\n"
     ]
    }
   ],
   "source": [
    "# Show emoji rows\n",
    "def show_emoji():\n",
    "    mask = train['free_text'].apply(lambda text: any(char in emoji.EMOJI_DATA for char in text))\n",
    "    # Use the mask to select a subset of the DataFrame\n",
    "    emoji_rows = train[mask]\n",
    "    return emoji_rows\n",
    "# Print the first few rows that contain an emoji\n",
    "print(show_emoji())"
   ]
  },
  {
   "cell_type": "code",
   "execution_count": 44,
   "metadata": {},
   "outputs": [
    {
     "data": {
      "text/plain": [
       "':mặt cười với 3 trái tim::mặt cười với 3 trái tim::mặt cười với 3 trái tim:'"
      ]
     },
     "execution_count": 44,
     "metadata": {},
     "output_type": "execute_result"
    }
   ],
   "source": [
    "# Demojize emojis\n",
    "train['free_text'] = train['free_text'].apply(emoji_vietnamese.demojize)\n",
    "# Show an example after demojizing\n",
    "train['free_text'][8]"
   ]
  },
  {
   "cell_type": "code",
   "execution_count": 45,
   "metadata": {},
   "outputs": [
    {
     "name": "stdout",
     "output_type": "stream",
     "text": [
      "                                               free_text  label_id\n",
      "429                   đỗ thuỷ trinh giông y mạng nhà m 😀         0\n",
      "623                             gu thời trang gạ địt à 😀         1\n",
      "667    phương tú ai biết người nghe đâu mà mấy bài đấ...         0\n",
      "1278        chị cho hỏi  tên tham mỹ viện là vậy chị  😀😀         0\n",
      "1931                   tuấn bảo chắc bác pro hơn thầy 😀😀         0\n",
      "...                                                  ...       ...\n",
      "22508           đã đến lúc thử độ bền của nút haha rồi 😀         0\n",
      "22939                                             hóng 😀         0\n",
      "23217                    phúc nhưng phối nhạc hợp với j😀         0\n",
      "23371                                bắt nộp phạt ngay 😳         0\n",
      "23475                 phong cách hở rais của người giàu😀         0\n",
      "\n",
      "[79 rows x 2 columns]\n"
     ]
    }
   ],
   "source": [
    "# Check remaining emojis\n",
    "print(show_emoji())"
   ]
  },
  {
   "cell_type": "code",
   "execution_count": 46,
   "metadata": {},
   "outputs": [
    {
     "data": {
      "text/plain": [
       "['😳', '✋', '🐄', '😖', '😀', '😫']"
      ]
     },
     "execution_count": 46,
     "metadata": {},
     "output_type": "execute_result"
    }
   ],
   "source": [
    "# See list of emojis that have not been processed\n",
    "text = ' '.join(show_emoji()['free_text'])\n",
    "emoji.distinct_emoji_list(text)"
   ]
  },
  {
   "cell_type": "code",
   "execution_count": 47,
   "metadata": {},
   "outputs": [],
   "source": [
    "# Create a dictionary of emoji names\n",
    "emoji_names = {\n",
    "    '😖': ':mặt bối rối\"',\n",
    "    '😀': ':cười toe toét:',\n",
    "    '😳': ':mặt ửng đỏ vì ngượng:',\n",
    "    '✋': ':giơ tay:',\n",
    "    '🐄': ':con bò:',\n",
    "    '😫': ':mặt mệt mỏi:'\n",
    "}\n",
    "# Replace each emoji with its name\n",
    "for emoji, name in emoji_names.items():\n",
    "    train['free_text'] = train['free_text'].str.replace(emoji, name)"
   ]
  },
  {
   "cell_type": "code",
   "execution_count": 48,
   "metadata": {},
   "outputs": [
    {
     "name": "stdout",
     "output_type": "stream",
     "text": [
      "đỗ thuỷ trinh giông y mạng nhà m :cười toe toét:\n"
     ]
    }
   ],
   "source": [
    "# Final check\n",
    "print(train['free_text'][429])"
   ]
  },
  {
   "cell_type": "markdown",
   "metadata": {},
   "source": [
    "## Save cleaned data"
   ]
  },
  {
   "cell_type": "code",
   "execution_count": 49,
   "metadata": {},
   "outputs": [],
   "source": [
    "# Remove rows with empty text again after processing\n",
    "train['free_text'].dropna(inplace=True)"
   ]
  },
  {
   "cell_type": "code",
   "execution_count": 50,
   "metadata": {},
   "outputs": [],
   "source": [
    "train.to_csv('../Dataset_Cleaned/clean_train_vihsd.csv', index=False)"
   ]
  }
 ],
 "metadata": {
  "kernelspec": {
   "display_name": "vihsd",
   "language": "python",
   "name": "python3"
  },
  "language_info": {
   "codemirror_mode": {
    "name": "ipython",
    "version": 3
   },
   "file_extension": ".py",
   "mimetype": "text/x-python",
   "name": "python",
   "nbconvert_exporter": "python",
   "pygments_lexer": "ipython3",
   "version": "3.12.3"
  }
 },
 "nbformat": 4,
 "nbformat_minor": 2
}
