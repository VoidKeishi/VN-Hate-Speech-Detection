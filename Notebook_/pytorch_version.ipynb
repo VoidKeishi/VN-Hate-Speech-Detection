{
 "cells": [
  {
   "cell_type": "markdown",
   "metadata": {},
   "source": [
    "## Import library"
   ]
  },
  {
   "cell_type": "code",
   "execution_count": 1,
   "metadata": {},
   "outputs": [],
   "source": [
    "import numpy as np\n",
    "import pandas as pd\n",
    "import torch\n",
    "from torch import nn\n",
    "import matplotlib.pyplot as plt\n",
    "import pyvi"
   ]
  },
  {
   "cell_type": "markdown",
   "metadata": {},
   "source": [
    "## Setup data"
   ]
  },
  {
   "cell_type": "markdown",
   "metadata": {},
   "source": [
    "### Data path"
   ]
  },
  {
   "cell_type": "code",
   "execution_count": 2,
   "metadata": {},
   "outputs": [],
   "source": [
    "ViCTSD_train = \"..\\\\Dataset\\\\ViCTSD\\\\ViCTSD_train.csv\"\n",
    "ViCTSD_test = \"..\\\\Dataset\\\\ViCTSD\\\\ViCTSD_test.csv\"\n",
    "vihsd_train = \"..\\\\Dataset\\\\vihsd\\\\train.csv\"\n",
    "vihsd_test = \"..\\\\Dataset\\\\vihsd\\\\test.csv\""
   ]
  },
  {
   "cell_type": "code",
   "execution_count": 3,
   "metadata": {},
   "outputs": [],
   "source": [
    "from datasets import load_dataset\n",
    "local_csv = load_dataset(\"csv\", data_files=ViCTSD_train, sep=',')"
   ]
  },
  {
   "cell_type": "code",
   "execution_count": 4,
   "metadata": {},
   "outputs": [
    {
     "data": {
      "text/plain": [
       "DatasetDict({\n",
       "    train: Dataset({\n",
       "        features: ['Unnamed: 0', 'Comment', 'Constructiveness', 'Toxicity', 'Title', 'Topic'],\n",
       "        num_rows: 7000\n",
       "    })\n",
       "})"
      ]
     },
     "execution_count": 4,
     "metadata": {},
     "output_type": "execute_result"
    }
   ],
   "source": [
    "local_csv"
   ]
  },
  {
   "cell_type": "markdown",
   "metadata": {},
   "source": [
    "### Visualize data\n",
    "\n",
    "* Visualize record\n",
    "* Unique labels each path"
   ]
  },
  {
   "cell_type": "code",
   "execution_count": 5,
   "metadata": {},
   "outputs": [],
   "source": [
    "ViCTSD_train_data = pd.read_csv(ViCTSD_train)[['Comment', 'Toxicity']]\n",
    "ViCTSD_test_data = pd.read_csv(ViCTSD_test)[['Comment', 'Toxicity']]\n",
    "vihsd_train_data = pd.read_csv(vihsd_train)\n",
    "vihsd_test_data = pd.read_csv(vihsd_test)"
   ]
  },
  {
   "cell_type": "markdown",
   "metadata": {},
   "source": [
    "### Get text and label each DataFrame"
   ]
  },
  {
   "cell_type": "code",
   "execution_count": 6,
   "metadata": {},
   "outputs": [],
   "source": [
    "vihsd_train_data = vihsd_train_data.rename(columns={'free_text': 'Comment', 'label_id': 'Toxicity'})\n",
    "vihsd_test_data = vihsd_test_data.rename(columns={'free_text': 'Comment', 'label_id': 'Toxicity'})"
   ]
  },
  {
   "cell_type": "code",
   "execution_count": 7,
   "metadata": {},
   "outputs": [],
   "source": [
    "vihsd_train_data['Toxicity'] = vihsd_train_data['Toxicity'].replace(2, 1)\n",
    "vihsd_test_data['Toxicity'] = vihsd_test_data['Toxicity'].replace(2, 1)"
   ]
  },
  {
   "cell_type": "markdown",
   "metadata": {},
   "source": [
    "### Merge DataFrame"
   ]
  },
  {
   "cell_type": "code",
   "execution_count": 8,
   "metadata": {},
   "outputs": [],
   "source": [
    "df_train_joined = pd.concat([ViCTSD_train_data, vihsd_train_data], ignore_index=True)\n",
    "df_test_joined = pd.concat([ViCTSD_test_data, vihsd_test_data], ignore_index=True)"
   ]
  },
  {
   "cell_type": "code",
   "execution_count": 9,
   "metadata": {},
   "outputs": [],
   "source": [
    "# Setup type for data in Comment column\n",
    "df_train_joined['Comment'] = df_train_joined['Comment'].astype(str)\n",
    "df_test_joined['Comment'] = df_test_joined['Comment'].astype(str)"
   ]
  },
  {
   "cell_type": "markdown",
   "metadata": {},
   "source": [
    "### Check null and remove null data"
   ]
  },
  {
   "cell_type": "code",
   "execution_count": 10,
   "metadata": {},
   "outputs": [],
   "source": [
    "# Lấy các cột có giá trị null\n",
    "def check_null_record(dataframe: pd.DataFrame, column_name: str):\n",
    "    columns_with_nulls = dataframe[column_name].isnull()\n",
    "    null_comment_indices = columns_with_nulls[columns_with_nulls == True].index\n",
    "    # print null dataframe\n",
    "    print(dataframe.iloc[null_comment_indices])\n",
    "    return null_comment_indices"
   ]
  },
  {
   "cell_type": "code",
   "execution_count": 11,
   "metadata": {},
   "outputs": [
    {
     "name": "stdout",
     "output_type": "stream",
     "text": [
      "Empty DataFrame\n",
      "Columns: [Comment, Toxicity]\n",
      "Index: []\n"
     ]
    },
    {
     "data": {
      "text/plain": [
       "Index([], dtype='int64')"
      ]
     },
     "execution_count": 11,
     "metadata": {},
     "output_type": "execute_result"
    }
   ],
   "source": [
    "check_null_record(df_train_joined, 'Comment')"
   ]
  },
  {
   "cell_type": "code",
   "execution_count": 12,
   "metadata": {},
   "outputs": [
    {
     "name": "stdout",
     "output_type": "stream",
     "text": [
      "Empty DataFrame\n",
      "Columns: [Comment, Toxicity]\n",
      "Index: []\n"
     ]
    }
   ],
   "source": [
    "df_train_joined.drop(check_null_record(df_train_joined, 'Comment'), inplace=True)"
   ]
  },
  {
   "cell_type": "markdown",
   "metadata": {},
   "source": [
    "### Preprocess data function\n",
    "* Tokenize: tuyệt vời -> tuyệt_vời, ngu ngốc -> ngu_ngốc\n",
    "* Loại stopwords: Thật tuyệt_vời -> tuyệt_vời\n",
    "* Loại link, hashtag và tag trong comment"
   ]
  },
  {
   "cell_type": "code",
   "execution_count": 13,
   "metadata": {},
   "outputs": [],
   "source": [
    "from pyvi import ViTokenizer, ViPosTagger\n",
    "# word seqmentation\n",
    "# ML không bắt buộc seqmentation\n",
    "def tokenize(text):\n",
    "    \"\"\"\n",
    "    Thật tuyệt vời -> Thật tuyệt_vời\n",
    "    \"\"\"\n",
    "    return ViTokenizer.tokenize(text)"
   ]
  },
  {
   "cell_type": "code",
   "execution_count": 14,
   "metadata": {},
   "outputs": [],
   "source": [
    "import os\n",
    "with open('Stopwords\\\\vietnamese-stopwords-dash.txt', 'r', encoding='utf-8') as f:\n",
    "    # Đọc từng dòng trong file\n",
    "    stopwords = [line.strip() for line in f]\n",
    "sus_stopwords = [\"không\",\"không_có\",\"không_thể\",\"chưa\"]\n",
    "for sus_stopword in sus_stopwords:\n",
    "  stopwords.remove(sus_stopword)"
   ]
  },
  {
   "cell_type": "code",
   "execution_count": 15,
   "metadata": {},
   "outputs": [],
   "source": [
    "def lower_and_remove_stopwords(text):\n",
    "  try:\n",
    "    # Chuyển đổi văn bản sang chữ thường\n",
    "    text = text.lower()\n",
    "\n",
    "    # Tách văn bản thành danh sách các từ\n",
    "    words = text.split()\n",
    "\n",
    "    # Loại bỏ stopword\n",
    "    filtered_words = [word for word in words if word not in stopwords]\n",
    "\n",
    "    # Ghép danh sách các từ đã lọc lại thành văn bản\n",
    "    filtered_text = ' '.join(filtered_words)\n",
    "  except Exception as e:\n",
    "    print(text)\n",
    "  return filtered_text\n"
   ]
  },
  {
   "cell_type": "code",
   "execution_count": 16,
   "metadata": {},
   "outputs": [],
   "source": [
    "import re\n",
    "\n",
    "def remove_links_hashtag_tag(text):\n",
    "    \"\"\"\n",
    "    Removes URLs from a text string.\n",
    "\n",
    "    Args:\n",
    "        text: The text string to process.\n",
    "\n",
    "    Returns:\n",
    "        The text string with URLs removed.\n",
    "    \"\"\"\n",
    "    link_remover = r\"(https?://[^\\s]+)\"\n",
    "    hashtag_remover = r\"# [^\\s]+\"\n",
    "    tag_remover = r\"@ [^\\s]+\"\n",
    "\n",
    "    text = re.sub(link_remover, \"\", text)\n",
    "    text = re.sub(hashtag_remover, \"\", text)\n",
    "    text = re.sub(tag_remover, \"\", text)\n",
    "  \n",
    "    return text"
   ]
  },
  {
   "cell_type": "code",
   "execution_count": 17,
   "metadata": {},
   "outputs": [],
   "source": [
    "# Calculate accuracy - out of 100 examples, what percentage does our model get right?\n",
    "def accuracy_fn(y_true, y_pred):\n",
    "  y_pred_rounded = torch.round(y_pred)  \n",
    "  correct = torch.eq(y_true, y_pred_rounded).sum().item()\n",
    "  try:\n",
    "    acc = (correct/len(y_pred))*100\n",
    "  except ZeroDivisionError:\n",
    "    print(\"ZeroDivisionError\")\n",
    "    print(y_true, y_pred)\n",
    "  return acc"
   ]
  },
  {
   "cell_type": "markdown",
   "metadata": {},
   "source": [
    "#### Test một dữ liệu khi qua quá trình chuẩn bị"
   ]
  },
  {
   "cell_type": "code",
   "execution_count": 18,
   "metadata": {},
   "outputs": [],
   "source": [
    "test_text = \"bánh này không ngon\""
   ]
  },
  {
   "cell_type": "code",
   "execution_count": 19,
   "metadata": {},
   "outputs": [
    {
     "data": {
      "text/plain": [
       "'bánh này không ngon'"
      ]
     },
     "execution_count": 19,
     "metadata": {},
     "output_type": "execute_result"
    }
   ],
   "source": [
    "test_text = ViTokenizer.tokenize(test_text)\n",
    "test_text"
   ]
  },
  {
   "cell_type": "code",
   "execution_count": 20,
   "metadata": {},
   "outputs": [
    {
     "name": "stdout",
     "output_type": "stream",
     "text": [
      "bánh không ngon\n"
     ]
    },
    {
     "data": {
      "text/plain": [
       "'bánh không ngon'"
      ]
     },
     "execution_count": 20,
     "metadata": {},
     "output_type": "execute_result"
    }
   ],
   "source": [
    "test_text = lower_and_remove_stopwords(test_text)\n",
    "print(test_text)\n",
    "test_text = remove_links_hashtag_tag(test_text)\n",
    "test_text"
   ]
  },
  {
   "cell_type": "code",
   "execution_count": 21,
   "metadata": {},
   "outputs": [
    {
     "data": {
      "text/plain": [
       "'Đây là một ví dụ về #hashtag,  và @username.'"
      ]
     },
     "execution_count": 21,
     "metadata": {},
     "output_type": "execute_result"
    }
   ],
   "source": [
    "text = \"Đây là một ví dụ về #hashtag, http://www.example.com và @username.\"\n",
    "result = remove_links_hashtag_tag(text)\n",
    "result"
   ]
  },
  {
   "cell_type": "markdown",
   "metadata": {},
   "source": [
    "## Create train, test\n",
    "\n",
    "X_train, X_test, y_train, y_test"
   ]
  },
  {
   "cell_type": "code",
   "execution_count": 22,
   "metadata": {},
   "outputs": [],
   "source": [
    "def preprocess_data(path1, path2):\n",
    "    \"\"\"\n",
    "    1. Get data from 2 paths\n",
    "    2. Concat 2 dataframes\n",
    "    3. Tokenize -> lower and remove stopwords -> remove links, hashtags, tags\n",
    "    4. Get X, y from dataframe (input, output)\n",
    "    \"\"\"\n",
    "    train_data1 = pd.read_csv(path1)[['Comment', 'Toxicity']]\n",
    "    train_data2 = pd.read_csv(path2)\n",
    "    train_data2 = train_data2.rename(columns={'free_text': 'Comment', 'label_id': 'Toxicity'})\n",
    "    train_data2['Toxicity'] = train_data2['Toxicity'].replace(2, 1)\n",
    "    df_joined = pd.concat([train_data1, train_data2], ignore_index=True)\n",
    "    df_joined['Comment'] = df_joined['Comment'].astype(str)\n",
    "    df_joined['Comment'] = df_joined['Comment'].apply(tokenize)\n",
    "    df_joined['Comment'] = df_joined['Comment'].apply(lower_and_remove_stopwords)\n",
    "    df_joined['Comment'] = df_joined['Comment'].apply(remove_links_hashtag_tag)\n",
    "    X = df_joined['Comment']\n",
    "    y = df_joined['Toxicity'].tolist()\n",
    "    return X, y, df_joined\n"
   ]
  },
  {
   "cell_type": "code",
   "execution_count": 66,
   "metadata": {},
   "outputs": [],
   "source": [
    "X, y, train_data = preprocess_data(ViCTSD_train, vihsd_train)\n",
    "X_test, y_test, test_data = preprocess_data(ViCTSD_test, vihsd_test)"
   ]
  },
  {
   "cell_type": "code",
   "execution_count": 24,
   "metadata": {},
   "outputs": [],
   "source": [
    "train_data.to_csv('preprocessed_train_data.csv', index=False)\n",
    "test_data.to_csv('preprocessed_test_data.csv', index=False)\n"
   ]
  },
  {
   "cell_type": "code",
   "execution_count": null,
   "metadata": {},
   "outputs": [],
   "source": []
  },
  {
   "cell_type": "markdown",
   "metadata": {},
   "source": [
    "### Load data from csv"
   ]
  },
  {
   "cell_type": "code",
   "execution_count": 25,
   "metadata": {},
   "outputs": [],
   "source": [
    "import pandas as pd\n",
    "train_data = pd.read_csv('preprocessed_train_data.csv')\n",
    "test_data = pd.read_csv('preprocessed_test_data.csv')\n",
    "X, y = train_data['Comment'].astype(str), train_data['Toxicity']\n",
    "\n",
    "from sklearn.model_selection import train_test_split\n",
    "X_train, X_val, y_train, y_val = train_test_split(X, y, test_size=0.1, random_state=42)\n",
    "\n",
    "from tensorflow.keras.preprocessing.text import Tokenizer\n",
    "from tensorflow.keras.preprocessing.sequence import pad_sequences\n",
    "vocab_size=50000\n",
    "embedding_dim=32\n",
    "max_length=140\n",
    "\n",
    "# Tokenizer\n",
    "tokenizer = Tokenizer(num_words=vocab_size, oov_token='<OOV>')\n",
    "tokenizer.fit_on_texts(X_train)\n",
    "\n",
    "X_train_sequences = tokenizer.texts_to_sequences(X_train)\n",
    "X_train_padded_sequences = pad_sequences(X_train_sequences, maxlen=max_length, padding='post',truncating='post')\n",
    "\n",
    "# Thực hiện thay đổi test để đưa vào tính toán val_acc\n",
    "X_val = tokenizer.texts_to_sequences(X_val)\n",
    "X_val_padded = pad_sequences(X_val, maxlen=max_length, padding='post',truncating='post')"
   ]
  },
  {
   "cell_type": "markdown",
   "metadata": {},
   "source": [
    "## Transforming data "
   ]
  },
  {
   "cell_type": "code",
   "execution_count": 26,
   "metadata": {},
   "outputs": [],
   "source": [
    "import torch\n",
    "from torch.utils.data import Dataset\n",
    "import pandas as pd\n",
    "import numpy as np\n",
    "\n",
    "class CustomDatasetv1(Dataset):\n",
    "    def __init__(self, x_encoded: np.ndarray, y_encoded: pd.core.series.Series):\n",
    "        # Setup\n",
    "        self.x_encoded = x_encoded\n",
    "        self.y_encoded = y_encoded.tolist()\n",
    "    \n",
    "    def __getitem__(self, idx):\n",
    "        return (torch.FloatTensor(self.x_encoded[idx]), self.y_encoded[idx])\n",
    "        # return (self.x_encoded[idx], self.y_encoded[idx])\n",
    "        # return {'text': self.x[idx], 'label': self.y_encoded[idx]}\n",
    "    \n",
    "    def __len__(self):\n",
    "        return self.x_encoded.shape[0]\n"
   ]
  },
  {
   "cell_type": "code",
   "execution_count": 27,
   "metadata": {},
   "outputs": [],
   "source": [
    "train_data = CustomDatasetv1(X_train_padded_sequences, y_train)\n",
    "test_data = CustomDatasetv1(X_val_padded, y_val)"
   ]
  },
  {
   "cell_type": "code",
   "execution_count": 28,
   "metadata": {},
   "outputs": [
    {
     "data": {
      "text/plain": [
       "27943"
      ]
     },
     "execution_count": 28,
     "metadata": {},
     "output_type": "execute_result"
    }
   ],
   "source": [
    "len(train_data)"
   ]
  },
  {
   "cell_type": "code",
   "execution_count": 29,
   "metadata": {},
   "outputs": [],
   "source": [
    "from torch.utils.data import DataLoader\n",
    "BATCH_SIZE=32\n",
    "train_dataloader = DataLoader(dataset=train_data,\n",
    "                              batch_size=BATCH_SIZE,\n",
    "                              shuffle=True)\n",
    "test_dataloader = DataLoader(dataset=test_data,\n",
    "                              batch_size=BATCH_SIZE,\n",
    "                              shuffle=True)                            "
   ]
  },
  {
   "cell_type": "code",
   "execution_count": 30,
   "metadata": {},
   "outputs": [
    {
     "data": {
      "text/plain": [
       "<torch.utils.data.dataloader.DataLoader at 0x229845a8390>"
      ]
     },
     "execution_count": 30,
     "metadata": {},
     "output_type": "execute_result"
    }
   ],
   "source": [
    "train_dataloader"
   ]
  },
  {
   "cell_type": "code",
   "execution_count": 32,
   "metadata": {},
   "outputs": [],
   "source": [
    "from torch import nn\n",
    "\n",
    "class ReshapeLayer(nn.Module):\n",
    "    def forward(self, x):\n",
    "        batch_size, sequence_length, embedding_dim = x.size()\n",
    "        return x.view(batch_size, -1)\n",
    "\n",
    "class model(nn.Module):\n",
    "    def __init__(self, vocab_size:int, embedding_dim:int):\n",
    "        super().__init__()\n",
    "        self.se = nn.Sequential(\n",
    "            nn.Embedding(num_embeddings=vocab_size, embedding_dim=embedding_dim),\n",
    "            ReshapeLayer(),  # Thêm Reshape Layer mới\n",
    "            nn.Linear(in_features=140 * embedding_dim, out_features=20),\n",
    "            nn.ReLU(),\n",
    "            nn.Linear(in_features=20, out_features=20),\n",
    "            nn.ReLU(),\n",
    "            nn.Linear(in_features=20, out_features=1),\n",
    "            nn.Sigmoid()\n",
    "        )\n",
    "\n",
    "    def forward(self, x):\n",
    "        return self.se(x)"
   ]
  },
  {
   "cell_type": "code",
   "execution_count": 49,
   "metadata": {},
   "outputs": [
    {
     "data": {
      "text/plain": [
       "model(\n",
       "  (se): Sequential(\n",
       "    (0): Embedding(50000, 32)\n",
       "    (1): ReshapeLayer()\n",
       "    (2): Linear(in_features=4480, out_features=20, bias=True)\n",
       "    (3): ReLU()\n",
       "    (4): Linear(in_features=20, out_features=20, bias=True)\n",
       "    (5): ReLU()\n",
       "    (6): Linear(in_features=20, out_features=1, bias=True)\n",
       "    (7): Sigmoid()\n",
       "  )\n",
       ")"
      ]
     },
     "execution_count": 49,
     "metadata": {},
     "output_type": "execute_result"
    }
   ],
   "source": [
    "model = model(vocab_size=vocab_size, embedding_dim=embedding_dim)\n",
    "model"
   ]
  },
  {
   "cell_type": "code",
   "execution_count": 50,
   "metadata": {},
   "outputs": [],
   "source": [
    "loss_fn = nn.BCELoss()\n",
    "optimizer = torch.optim.Adam(model.parameters(), lr=0.001)"
   ]
  },
  {
   "cell_type": "code",
   "execution_count": 51,
   "metadata": {},
   "outputs": [],
   "source": [
    "y_pred_record = []"
   ]
  },
  {
   "cell_type": "code",
   "execution_count": 52,
   "metadata": {},
   "outputs": [
    {
     "data": {
      "application/vnd.jupyter.widget-view+json": {
       "model_id": "96b81bdfa7ac4911b1dd30b75e66cd1a",
       "version_major": 2,
       "version_minor": 0
      },
      "text/plain": [
       "  0%|          | 0/10 [00:00<?, ?it/s]"
      ]
     },
     "metadata": {},
     "output_type": "display_data"
    },
    {
     "name": "stdout",
     "output_type": "stream",
     "text": [
      "Epoch: 0\n",
      "------\n",
      "\n",
      "Train loss; 0.4343 | Test loss: 0.4217, Test acc: 84.9490\n",
      "Epoch: 1\n",
      "------\n",
      "\n",
      "Train loss; 0.3903 | Test loss: 0.3626, Test acc: 85.5548\n",
      "Epoch: 2\n",
      "------\n",
      "\n",
      "Train loss; 0.3156 | Test loss: 0.3774, Test acc: 86.0651\n",
      "Epoch: 3\n",
      "------\n",
      "\n",
      "Train loss; 0.2700 | Test loss: 0.3815, Test acc: 82.8444\n",
      "Epoch: 4\n",
      "------\n",
      "\n",
      "Train loss; 0.2373 | Test loss: 0.3429, Test acc: 87.0217\n",
      "Epoch: 5\n",
      "------\n",
      "\n",
      "Train loss; 0.2136 | Test loss: 0.3862, Test acc: 83.9923\n",
      "Epoch: 6\n",
      "------\n",
      "\n",
      "Train loss; 0.1947 | Test loss: 0.3609, Test acc: 86.7347\n",
      "Epoch: 7\n",
      "------\n",
      "\n",
      "Train loss; 0.1760 | Test loss: 0.3696, Test acc: 86.6071\n",
      "Epoch: 8\n",
      "------\n",
      "\n",
      "Train loss; 0.1589 | Test loss: 0.4115, Test acc: 85.6824\n",
      "Epoch: 9\n",
      "------\n",
      "\n",
      "Train loss; 0.1451 | Test loss: 0.4359, Test acc: 86.9579\n"
     ]
    }
   ],
   "source": [
    "# Write a training and evaluationg loop for model_1\n",
    "torch.manual_seed(42)\n",
    "\n",
    "# import tqdm for progress bar\n",
    "from tqdm.auto import tqdm\n",
    "\n",
    "# Train for longer\n",
    "epochs = 10\n",
    "\n",
    "# # Put data on the target device\n",
    "# X_padded_sequences, y_train = torch.tensor(X_padded_sequences).to(device), torch.tensor(y_train).to(device)\n",
    "# padded_val_sequences, y_test=  torch.tensor(padded_val_sequences).to(device), torch.tensor(y_test).to(device)\n",
    "\n",
    "# Create training and test loop\n",
    "for epoch in tqdm(range(epochs)):\n",
    "  print(f\"Epoch: {epoch}\\n------\")\n",
    "\n",
    "  ### Training\n",
    "  train_loss=0\n",
    "  model.train()\n",
    "  # Add a loop to loop through the training batches\n",
    "  for batch, (X, y) in enumerate(train_dataloader):\n",
    "    # print(f\"Batch: {batch}\")\n",
    "\n",
    "    # 1. Forward\n",
    "    X = X.long()\n",
    "    y_pred = model(X)\n",
    "\n",
    "    # 2. Calculate the loss\n",
    "    y_pred_record.append(y_pred)\n",
    "    loss = loss_fn(y_pred.squeeze(), y.float().squeeze())\n",
    "    train_loss += loss\n",
    "\n",
    "    # 3.\n",
    "    optimizer.zero_grad()\n",
    "\n",
    "    # 4.\n",
    "    loss.backward()\n",
    "\n",
    "    # 5.\n",
    "    optimizer.step()\n",
    "\n",
    "    # Print out what's happening\n",
    "    # if batch %50==0:\n",
    "    #   print(f\"Looked at {batch*len(X)}/{len(train_dataloader.dataset)} samples.\")\n",
    "\n",
    "  # Divide total train loss by length of train dataloader\n",
    "  train_loss /= len(train_dataloader)\n",
    "\n",
    "  ### Testing\n",
    "  test_loss, test_acc = 0,0\n",
    "  model.eval()\n",
    "  with torch.inference_mode():\n",
    "    for X_test, y_test in test_dataloader:\n",
    "      # 1. Forward pass\n",
    "      X_test = X_test.long()\n",
    "      test_pred = model(X_test)\n",
    "\n",
    "      # 2. Calculate the loss (accumulatively)\n",
    "      test_loss += loss_fn(test_pred.squeeze(dim=1), y_test.float())\n",
    "\n",
    "      # 3. Calculate accuracy\n",
    "      test_acc += accuracy_fn(y_true= y_test.float(),\n",
    "                              y_pred = test_pred.squeeze(dim=1))\n",
    "\n",
    "    # Calculate the test loss average per batch\n",
    "    test_loss /= len(test_dataloader)\n",
    "\n",
    "    # Calculate the test acc average per batch\n",
    "    test_acc /= len(test_dataloader)\n",
    "\n",
    "  # print out what happen\n",
    "  print(f\"\\nTrain loss; {train_loss:.4f} | Test loss: {test_loss:.4f}, Test acc: {test_acc:.4f}\")\n",
    "  # print(f\"\\nTrain loss; {train_loss:.4f}\")"
   ]
  },
  {
   "cell_type": "code",
   "execution_count": 53,
   "metadata": {},
   "outputs": [
    {
     "data": {
      "text/plain": [
       "7"
      ]
     },
     "execution_count": 53,
     "metadata": {},
     "output_type": "execute_result"
    }
   ],
   "source": [
    "len(y_pred_record[-1])"
   ]
  },
  {
   "cell_type": "code",
   "execution_count": 54,
   "metadata": {},
   "outputs": [
    {
     "data": {
      "text/plain": [
       "tensor([[1.],\n",
       "        [0.],\n",
       "        [0.],\n",
       "        [0.],\n",
       "        [0.],\n",
       "        [0.],\n",
       "        [0.],\n",
       "        [0.],\n",
       "        [0.],\n",
       "        [0.],\n",
       "        [0.],\n",
       "        [0.],\n",
       "        [0.],\n",
       "        [0.],\n",
       "        [0.],\n",
       "        [0.],\n",
       "        [0.],\n",
       "        [0.],\n",
       "        [0.],\n",
       "        [0.],\n",
       "        [1.],\n",
       "        [0.],\n",
       "        [1.],\n",
       "        [0.],\n",
       "        [0.],\n",
       "        [0.],\n",
       "        [0.],\n",
       "        [0.],\n",
       "        [1.],\n",
       "        [1.],\n",
       "        [0.],\n",
       "        [0.]], grad_fn=<RoundBackward0>)"
      ]
     },
     "execution_count": 54,
     "metadata": {},
     "output_type": "execute_result"
    }
   ],
   "source": [
    "torch.round(y_pred_record[-5])"
   ]
  },
  {
   "cell_type": "markdown",
   "metadata": {},
   "source": [
    "## Lưu model"
   ]
  },
  {
   "cell_type": "code",
   "execution_count": null,
   "metadata": {},
   "outputs": [],
   "source": [
    "torch.save(model.state_dict(), 'my_model.pth')"
   ]
  },
  {
   "cell_type": "markdown",
   "metadata": {},
   "source": [
    "## Load model"
   ]
  },
  {
   "cell_type": "code",
   "execution_count": 33,
   "metadata": {},
   "outputs": [
    {
     "data": {
      "text/plain": [
       "<All keys matched successfully>"
      ]
     },
     "execution_count": 33,
     "metadata": {},
     "output_type": "execute_result"
    }
   ],
   "source": [
    "predict_model = model(vocab_size=vocab_size, embedding_dim=embedding_dim)\n",
    "predict_model.load_state_dict(torch.load('my_model.pth'))"
   ]
  },
  {
   "cell_type": "markdown",
   "metadata": {},
   "source": [
    "## Dự đoán"
   ]
  },
  {
   "cell_type": "markdown",
   "metadata": {},
   "source": [
    "### Nhập câu muốn dự đoán"
   ]
  },
  {
   "cell_type": "code",
   "execution_count": 64,
   "metadata": {},
   "outputs": [],
   "source": [
    "test_sentences = [  \"Đồ ngu, sao mày ngu thế?\",\n",
    "                    \"Con này xấu xí, béo ú, chẳng ra gì cả.\",\n",
    "                    \"Đồ đàn bà con gái chỉ biết ăn bám đàn ông.\",\n",
    "                    \"Sản phẩm này tệ hại, ai mua cũng hối hận.\",\n",
    "                    \"Mày hát dở tệ, đừng bao giờ hát nữa nhé.\",\n",
    "                    \"Mày dám nói tao ngu à? Thử lặp lại lần nữa xem!\",\n",
    "                    \"Đời mày xuống lỗ rồi con ạ\",\n",
    "                    \"Ngu thì nín :))\",\n",
    "                    \"khôn như vợ chồng nhà này k biết bao giờ mới giỗ đầu bạn nhỉ :))\",\n",
    "                    \"toàn cái bọn lúc vay muốn dc vc.khi xong vc rồi thì vẩy đuôi b oi.giải thích bọn nó cố tính đéo hiểu đâu.còn vay gì trả đấy đơn giản chỉ thế.\",\n",
    "                    \"sản phẩm này bố ỉa vào mà mua\",\n",
    "                    \"bạn thật xinh đẹp\",\n",
    "                    \"cộng hòa xã hội chủ nghĩa việt nam muôn năm\",\n",
    "                    \"em thật dễ thương\",\n",
    "                    \"hôm nay ăn gì\",\n",
    "                    \"đầu bạn nhìn như đầu buổi\"\n",
    "]"
   ]
  },
  {
   "cell_type": "code",
   "execution_count": 69,
   "metadata": {},
   "outputs": [
    {
     "data": {
      "text/plain": [
       "'tuyệt_vời ... ! ! !'"
      ]
     },
     "execution_count": 69,
     "metadata": {},
     "output_type": "execute_result"
    }
   ],
   "source": [
    "X[0]"
   ]
  },
  {
   "cell_type": "code",
   "execution_count": 62,
   "metadata": {},
   "outputs": [],
   "source": [
    "def predict(test_sentences):\n",
    "    test_seq = tokenize(test_sentences)\n",
    "    test_seq = lower_and_remove_stopwords(test_seq)\n",
    "    test_seq = remove_links_hashtag_tag(test_seq)\n",
    "    test_seq = tokenizer.texts_to_sequences([test_seq])\n",
    "    # print(test_seq)\n",
    "    test_seq = pad_sequences(test_seq, maxlen=max_length, padding='post',truncating='post')\n",
    "    # print(test_seq)\n",
    "    print(predict_model(torch.tensor(test_seq)))"
   ]
  },
  {
   "cell_type": "code",
   "execution_count": 65,
   "metadata": {},
   "outputs": [
    {
     "name": "stdout",
     "output_type": "stream",
     "text": [
      "tensor([[0.9287]], grad_fn=<SigmoidBackward0>)\n",
      "tensor([[0.9278]], grad_fn=<SigmoidBackward0>)\n",
      "tensor([[0.9272]], grad_fn=<SigmoidBackward0>)\n",
      "tensor([[0.0526]], grad_fn=<SigmoidBackward0>)\n",
      "tensor([[0.9063]], grad_fn=<SigmoidBackward0>)\n",
      "tensor([[0.9006]], grad_fn=<SigmoidBackward0>)\n",
      "tensor([[0.5593]], grad_fn=<SigmoidBackward0>)\n",
      "tensor([[0.9287]], grad_fn=<SigmoidBackward0>)\n",
      "tensor([[0.0004]], grad_fn=<SigmoidBackward0>)\n",
      "tensor([[0.9287]], grad_fn=<SigmoidBackward0>)\n",
      "tensor([[0.0118]], grad_fn=<SigmoidBackward0>)\n",
      "tensor([[0.0008]], grad_fn=<SigmoidBackward0>)\n",
      "tensor([[0.6395]], grad_fn=<SigmoidBackward0>)\n",
      "tensor([[9.2950e-05]], grad_fn=<SigmoidBackward0>)\n",
      "tensor([[0.0052]], grad_fn=<SigmoidBackward0>)\n",
      "tensor([[0.0484]], grad_fn=<SigmoidBackward0>)\n"
     ]
    }
   ],
   "source": [
    "for sentence in test_sentences:\n",
    "    predict(sentence)"
   ]
  },
  {
   "cell_type": "code",
   "execution_count": 71,
   "metadata": {},
   "outputs": [],
   "source": [
    "def predictV1(test_sentences):\n",
    "    test_seq = tokenize(test_sentences)\n",
    "    test_seq = lower_and_remove_stopwords(test_seq)\n",
    "    test_seq = remove_links_hashtag_tag(test_seq)\n",
    "    test_seq = tokenizer.texts_to_sequences([test_seq])\n",
    "    # print(test_seq)\n",
    "    test_seq = pad_sequences(test_seq, maxlen=max_length, padding='post',truncating='post')\n",
    "    # print(test_seq)\n",
    "    return predict_model(torch.tensor(test_seq))"
   ]
  },
  {
   "cell_type": "code",
   "execution_count": 75,
   "metadata": {},
   "outputs": [
    {
     "data": {
      "text/plain": [
       "tensor([[True]])"
      ]
     },
     "execution_count": 75,
     "metadata": {},
     "output_type": "execute_result"
    }
   ],
   "source": [
    "predictV1(X_test[0])<0.5"
   ]
  },
  {
   "cell_type": "code",
   "execution_count": 77,
   "metadata": {},
   "outputs": [],
   "source": [
    "num_record = len(X_test)\n",
    "is_true = 0\n",
    "true_0 = 0\n",
    "true_1 = 0\n",
    "test_predict = []\n",
    "for i in range(len(X_test)):\n",
    "    if predictV1(X_test[i])<0.5:\n",
    "        test_predict.append(0)\n",
    "    else:\n",
    "        test_predict.append(1)\n",
    "    "
   ]
  },
  {
   "cell_type": "code",
   "execution_count": 79,
   "metadata": {},
   "outputs": [
    {
     "data": {
      "text/plain": [
       "6708"
      ]
     },
     "execution_count": 79,
     "metadata": {},
     "output_type": "execute_result"
    }
   ],
   "source": [
    "torch.eq(torch.tensor(test_predict), torch.tensor(y_test)).sum().item()"
   ]
  },
  {
   "cell_type": "code",
   "execution_count": 80,
   "metadata": {},
   "outputs": [
    {
     "data": {
      "text/plain": [
       "0.8734375"
      ]
     },
     "execution_count": 80,
     "metadata": {},
     "output_type": "execute_result"
    }
   ],
   "source": [
    "6708/num_record"
   ]
  },
  {
   "cell_type": "code",
   "execution_count": null,
   "metadata": {},
   "outputs": [],
   "source": [
    "# \"Đồ ngu, sao mày ngu thế?\", 1\n",
    "# \"Con này xấu xí, béo ú, chẳng ra gì cả.\", 1\n",
    "# \"Đồ đàn bà con gái chỉ biết ăn bám đàn ông.\",\n",
    "# \"Sản phẩm này tệ hại, ai mua cũng hối hận.\",\n",
    "# \"Mày hát dở tệ, đừng bao giờ hát nữa nhé.\", 0 \n",
    "# \"Mày dám nói tao ngu à? Thử lặp lại lần nữa xem!\",\n",
    "# \"Đời mày xuống lỗ rồi con ạ\", 0\n",
    "# \"Ngu thì nín :))\",\n",
    "# \"khôn như vợ chồng nhà này k biết bao giờ mới giỗ đầu bạn nhỉ :))\", 0 \n",
    "# \"toàn cái bọn lúc vay muốn dc vc.khi xong vc rồi thì vẩy đuôi b oi.g\n",
    "# \"sản phẩm này bố ỉa vào mà mua\""
   ]
  },
  {
   "cell_type": "code",
   "execution_count": null,
   "metadata": {},
   "outputs": [],
   "source": [
    "# import csv\n",
    "# filename = \"E:\\\\AI Project\\\\word2vec_vi_syllables_100dims.txt\"\n",
    "# chunksize = 10 ** 6\n",
    "# for chunk in pd.read_csv(filename, chunksize=chunksize, on_bad_lines='skip', quoting=csv.QUOTE_NONE, encoding='utf-8'):\n",
    "#     # chunk is a DataFrame. To \"process\" the rows in the chunk:\n",
    "#     for index, row in chunk.iterrows():\n",
    "#         print(row)"
   ]
  }
 ],
 "metadata": {
  "kernelspec": {
   "display_name": "Python 3",
   "language": "python",
   "name": "python3"
  },
  "language_info": {
   "codemirror_mode": {
    "name": "ipython",
    "version": 3
   },
   "file_extension": ".py",
   "mimetype": "text/x-python",
   "name": "python",
   "nbconvert_exporter": "python",
   "pygments_lexer": "ipython3",
   "version": "3.11.1"
  }
 },
 "nbformat": 4,
 "nbformat_minor": 2
}
