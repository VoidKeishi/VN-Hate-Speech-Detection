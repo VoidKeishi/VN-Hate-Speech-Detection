{
 "cells": [
  {
   "cell_type": "markdown",
   "metadata": {},
   "source": [
    "## Import library"
   ]
  },
  {
   "cell_type": "code",
   "execution_count": 1,
   "metadata": {},
   "outputs": [],
   "source": [
    "import numpy as np\n",
    "import pandas as pd\n",
    "import torch\n",
    "from torch import nn\n",
    "import matplotlib.pyplot as plt\n",
    "import pyvi"
   ]
  },
  {
   "cell_type": "markdown",
   "metadata": {},
   "source": [
    "## Setup data"
   ]
  },
  {
   "cell_type": "markdown",
   "metadata": {},
   "source": [
    "### Data path"
   ]
  },
  {
   "cell_type": "code",
   "execution_count": 10,
   "metadata": {},
   "outputs": [],
   "source": [
    "ViCTSD_train = \"..\\\\Dataset\\\\ViCTSD\\\\ViCTSD_train.csv\"\n",
    "ViCTSD_test = \"..\\\\Dataset\\\\ViCTSD\\\\ViCTSD_test.csv\"\n",
    "vihsd_train = \"..\\\\Dataset\\\\vihsd\\\\train.csv\"\n",
    "vihsd_test = \"..\\\\Dataset\\\\vihsd\\\\test.csv\""
   ]
  },
  {
   "cell_type": "markdown",
   "metadata": {},
   "source": [
    "### Visualize data\n",
    "\n",
    "* Visualize record\n",
    "* Unique labels each path"
   ]
  },
  {
   "cell_type": "code",
   "execution_count": 11,
   "metadata": {},
   "outputs": [],
   "source": [
    "ViCTSD_train_data = pd.read_csv(ViCTSD_train)[['Comment', 'Toxicity']]\n",
    "ViCTSD_test_data = pd.read_csv(ViCTSD_test)[['Comment', 'Toxicity']]\n",
    "vihsd_train_data = pd.read_csv(vihsd_train)\n",
    "vihsd_test_data = pd.read_csv(vihsd_test)"
   ]
  },
  {
   "cell_type": "markdown",
   "metadata": {},
   "source": [
    "### Get text and label each DataFrame"
   ]
  },
  {
   "cell_type": "code",
   "execution_count": 12,
   "metadata": {},
   "outputs": [],
   "source": [
    "vihsd_train_data = vihsd_train_data.rename(columns={'free_text': 'Comment', 'label_id': 'Toxicity'})\n",
    "vihsd_test_data = vihsd_test_data.rename(columns={'free_text': 'Comment', 'label_id': 'Toxicity'})"
   ]
  },
  {
   "cell_type": "code",
   "execution_count": 13,
   "metadata": {},
   "outputs": [],
   "source": [
    "vihsd_train_data['Toxicity'] = vihsd_train_data['Toxicity'].replace(2, 1)\n",
    "vihsd_test_data['Toxicity'] = vihsd_test_data['Toxicity'].replace(2, 1)"
   ]
  },
  {
   "cell_type": "markdown",
   "metadata": {},
   "source": [
    "### Merge DataFrame"
   ]
  },
  {
   "cell_type": "code",
   "execution_count": 14,
   "metadata": {},
   "outputs": [],
   "source": [
    "df_train_joined = pd.concat([ViCTSD_train_data, vihsd_train_data], ignore_index=True)\n",
    "df_test_joined = pd.concat([ViCTSD_test_data, vihsd_test_data], ignore_index=True)"
   ]
  },
  {
   "cell_type": "code",
   "execution_count": 15,
   "metadata": {},
   "outputs": [],
   "source": [
    "# Setup type for data in Comment column\n",
    "df_train_joined['Comment'] = df_train_joined['Comment'].astype(str)\n",
    "df_test_joined['Comment'] = df_test_joined['Comment'].astype(str)"
   ]
  },
  {
   "cell_type": "markdown",
   "metadata": {},
   "source": [
    "### Check null and remove null data"
   ]
  },
  {
   "cell_type": "code",
   "execution_count": 16,
   "metadata": {},
   "outputs": [],
   "source": [
    "# Lấy các cột có giá trị null\n",
    "def check_null_record(dataframe: pd.DataFrame, column_name: str):\n",
    "    columns_with_nulls = dataframe[column_name].isnull()\n",
    "    null_comment_indices = columns_with_nulls[columns_with_nulls == True].index\n",
    "    # print null dataframe\n",
    "    print(dataframe.iloc[null_comment_indices])\n",
    "    return null_comment_indices"
   ]
  },
  {
   "cell_type": "code",
   "execution_count": 17,
   "metadata": {},
   "outputs": [
    {
     "name": "stdout",
     "output_type": "stream",
     "text": [
      "Empty DataFrame\n",
      "Columns: [Comment, Toxicity]\n",
      "Index: []\n"
     ]
    },
    {
     "data": {
      "text/plain": [
       "Index([], dtype='int64')"
      ]
     },
     "execution_count": 17,
     "metadata": {},
     "output_type": "execute_result"
    }
   ],
   "source": [
    "check_null_record(df_train_joined, 'Comment')"
   ]
  },
  {
   "cell_type": "code",
   "execution_count": 18,
   "metadata": {},
   "outputs": [
    {
     "name": "stdout",
     "output_type": "stream",
     "text": [
      "Empty DataFrame\n",
      "Columns: [Comment, Toxicity]\n",
      "Index: []\n"
     ]
    }
   ],
   "source": [
    "df_train_joined.drop(check_null_record(df_train_joined, 'Comment'), inplace=True)"
   ]
  },
  {
   "cell_type": "markdown",
   "metadata": {},
   "source": [
    "### Preprocess data function\n",
    "* Tokenize: tuyệt vời -> tuyệt_vời, ngu ngốc -> ngu_ngốc\n",
    "* Loại stopwords: Thật tuyệt_vời -> tuyệt_vời\n",
    "* Loại link, hashtag và tag trong comment"
   ]
  },
  {
   "cell_type": "code",
   "execution_count": null,
   "metadata": {},
   "outputs": [],
   "source": [
    "from pyvi import ViTokenizer, ViPosTagger\n",
    "# word seqmentation\n",
    "# ML không bắt buộc seqmentation\n",
    "def tokenize(text):\n",
    "    \"\"\"\n",
    "    Thật tuyệt vời -> Thật tuyệt_vời\n",
    "    \"\"\"\n",
    "    return ViTokenizer.tokenize(text)"
   ]
  },
  {
   "cell_type": "code",
   "execution_count": null,
   "metadata": {},
   "outputs": [],
   "source": [
    "import os\n",
    "with open('Stopwords\\\\vietnamese-stopwords-dash.txt', 'r', encoding='utf-8') as f:\n",
    "    # Đọc từng dòng trong file\n",
    "    stopwords = [line.strip() for line in f]"
   ]
  },
  {
   "cell_type": "code",
   "execution_count": null,
   "metadata": {},
   "outputs": [],
   "source": [
    "def lower_and_remove_stopwords(text):\n",
    "  try:\n",
    "    # Chuyển đổi văn bản sang chữ thường\n",
    "    text = text.lower()\n",
    "\n",
    "    # Tách văn bản thành danh sách các từ\n",
    "    words = text.split()\n",
    "\n",
    "    # Loại bỏ stopword\n",
    "    filtered_words = [word for word in words if word not in stopwords]\n",
    "\n",
    "    # Ghép danh sách các từ đã lọc lại thành văn bản\n",
    "    filtered_text = ' '.join(filtered_words)\n",
    "  except Exception as e:\n",
    "    print(text)\n",
    "  return filtered_text\n"
   ]
  },
  {
   "cell_type": "code",
   "execution_count": null,
   "metadata": {},
   "outputs": [],
   "source": [
    "import re\n",
    "\n",
    "def remove_links_hashtag_tag(text):\n",
    "    \"\"\"\n",
    "    Removes URLs from a text string.\n",
    "\n",
    "    Args:\n",
    "        text: The text string to process.\n",
    "\n",
    "    Returns:\n",
    "        The text string with URLs removed.\n",
    "    \"\"\"\n",
    "    link_remover = r\"(https?://[^\\s]+)\"\n",
    "    hashtag_remover = r\"# [^\\s]+\"\n",
    "    tag_remover = r\"@ [^\\s]+\"\n",
    "\n",
    "    text = re.sub(link_remover, \"\", text)\n",
    "    text = re.sub(hashtag_remover, \"\", text)\n",
    "    text = re.sub(tag_remover, \"\", text)\n",
    "  \n",
    "    return text"
   ]
  },
  {
   "cell_type": "markdown",
   "metadata": {},
   "source": [
    "#### Test một dữ liệu khi qua quá trình chuẩn bị"
   ]
  },
  {
   "cell_type": "code",
   "execution_count": null,
   "metadata": {},
   "outputs": [],
   "source": [
    "test_text = \"#giải_cứu_bi_béo @Lê Tuấn tgia không bili, link: https://www.google.com\""
   ]
  },
  {
   "cell_type": "code",
   "execution_count": null,
   "metadata": {},
   "outputs": [
    {
     "data": {
      "text/plain": [
       "'# giải_cứu_bi_béo @ Lê_Tuấn tgia không bili , link : https://www.google.com'"
      ]
     },
     "execution_count": 103,
     "metadata": {},
     "output_type": "execute_result"
    }
   ],
   "source": [
    "test_text = ViTokenizer.tokenize(test_text)\n",
    "test_text"
   ]
  },
  {
   "cell_type": "code",
   "execution_count": null,
   "metadata": {},
   "outputs": [
    {
     "name": "stdout",
     "output_type": "stream",
     "text": [
      "# giải_cứu_bi_béo @ lê_tuấn tgia bili , link : https://www.google.com\n"
     ]
    },
    {
     "data": {
      "text/plain": [
       "'  tgia bili , link : '"
      ]
     },
     "execution_count": 104,
     "metadata": {},
     "output_type": "execute_result"
    }
   ],
   "source": [
    "test_text = lower_and_remove_stopwords(test_text)\n",
    "print(test_text)\n",
    "test_text = remove_links_hashtag_tag(test_text)\n",
    "test_text"
   ]
  },
  {
   "cell_type": "code",
   "execution_count": null,
   "metadata": {},
   "outputs": [
    {
     "data": {
      "text/plain": [
       "'Đây là một ví dụ về #hashtag,  và @username.'"
      ]
     },
     "execution_count": 105,
     "metadata": {},
     "output_type": "execute_result"
    }
   ],
   "source": [
    "text = \"Đây là một ví dụ về #hashtag, http://www.example.com và @username.\"\n",
    "result = remove_links_hashtag_tag(text)\n",
    "result"
   ]
  },
  {
   "cell_type": "markdown",
   "metadata": {},
   "source": [
    "## Create train, test\n",
    "\n",
    "X_train, X_test, y_train, y_test"
   ]
  },
  {
   "cell_type": "code",
   "execution_count": null,
   "metadata": {},
   "outputs": [],
   "source": [
    "def preprocess_data(path1, path2):\n",
    "    \"\"\"\n",
    "    1. Get data from 2 paths\n",
    "    2. Concat 2 dataframes\n",
    "    3. Tokenize -> lower and remove stopwords -> remove links, hashtags, tags\n",
    "    4. Get X, y from dataframe (input, output)\n",
    "    \"\"\"\n",
    "    train_data1 = pd.read_csv(path1)[['Comment', 'Toxicity']]\n",
    "    train_data2 = pd.read_csv(path2)\n",
    "    train_data2 = train_data2.rename(columns={'free_text': 'Comment', 'label_id': 'Toxicity'})\n",
    "    train_data2['Toxicity'] = train_data2['Toxicity'].replace(2, 1)\n",
    "    df_joined = pd.concat([train_data1, train_data2], ignore_index=True)\n",
    "    df_joined['Comment'] = df_joined['Comment'].astype(str)\n",
    "    df_joined['Comment'] = df_joined['Comment'].apply(tokenize)\n",
    "    df_joined['Comment'] = df_joined['Comment'].apply(lower_and_remove_stopwords)\n",
    "    df_joined['Comment'] = df_joined['Comment'].apply(remove_links_hashtag_tag)\n",
    "    X = df_joined['Comment']\n",
    "    y = df_joined['Toxicity']\n",
    "    return X, y, df_joined\n"
   ]
  },
  {
   "cell_type": "code",
   "execution_count": null,
   "metadata": {},
   "outputs": [],
   "source": [
    "X, y, data = preprocess_data(ViCTSD_train, vihsd_train)\n",
    "X_test, y_test, _ = preprocess_data(ViCTSD_test, vihsd_test)"
   ]
  },
  {
   "cell_type": "code",
   "execution_count": null,
   "metadata": {},
   "outputs": [],
   "source": [
    "# Lưu dữ liệu sau khi đã xử lí\n",
    "data.to_csv('E:\\\\AI Project\\\\VN-Hate-Speech-Detection-Personal\\\\df_joined.csv', index=False)"
   ]
  },
  {
   "cell_type": "code",
   "execution_count": null,
   "metadata": {},
   "outputs": [],
   "source": [
    "from sklearn.model_selection import train_test_split\n",
    "X_train, X_val, y_train, y_val = train_test_split(X, y, test_size=0.1, random_state=42)"
   ]
  },
  {
   "cell_type": "markdown",
   "metadata": {},
   "source": [
    "### a"
   ]
  },
  {
   "cell_type": "code",
   "execution_count": 50,
   "metadata": {},
   "outputs": [],
   "source": [
    "vocab_size=50000\n",
    "embedding_dim=64\n",
    "max_length=140"
   ]
  },
  {
   "cell_type": "code",
   "execution_count": 111,
   "metadata": {},
   "outputs": [],
   "source": [
    "from tensorflow.keras.preprocessing.text import Tokenizer\n",
    "from tensorflow.keras.preprocessing.sequence import pad_sequences"
   ]
  },
  {
   "cell_type": "code",
   "execution_count": 112,
   "metadata": {},
   "outputs": [],
   "source": [
    "# Tokenizer\n",
    "tokenizer = Tokenizer(num_words=vocab_size, oov_token='<OOV>')\n",
    "tokenizer.fit_on_texts(X_train)"
   ]
  },
  {
   "cell_type": "code",
   "execution_count": 113,
   "metadata": {},
   "outputs": [],
   "source": [
    "X_train_sequences = tokenizer.texts_to_sequences(X_train)\n",
    "padded_X_train_sequences = pad_sequences(X_train_sequences, maxlen=max_length, padding='post',truncating='post')"
   ]
  },
  {
   "cell_type": "code",
   "execution_count": 117,
   "metadata": {},
   "outputs": [],
   "source": [
    "# Thực hiện thay đổi test để đưa vào tính toán val_acc\n",
    "test_sequences = tokenizer.texts_to_sequences(X_val)\n",
    "X_test = tokenizer.texts_to_sequences(X_test)\n",
    "padded_test_sequences = pad_sequences(test_sequences, maxlen=max_length, padding='post',truncating='post')\n",
    "X_test_padded = pad_sequences(X_test, maxlen=max_length, padding='post',truncating='post')"
   ]
  },
  {
   "cell_type": "code",
   "execution_count": 120,
   "metadata": {},
   "outputs": [],
   "source": [
    "# vocab_size=50000\n",
    "# embedding_dim=64\n",
    "# max_length=140"
   ]
  },
  {
   "cell_type": "code",
   "execution_count": 51,
   "metadata": {},
   "outputs": [],
   "source": [
    "from torch import nn\n",
    "class model(nn.Module):\n",
    "    def __init__(self, vocab_size:int, embedding_dim:int):\n",
    "        super().__init__()\n",
    "        self.se = nn.Sequential(\n",
    "            nn.Embedding(num_embeddings=vocab_size, \n",
    "                        embedding_dim=embedding_dim),\n",
    "            nn.Flatten(),\n",
    "            nn.Linear(in_features=embedding_dim, out_features=20),\n",
    "            nn.ReLU(),\n",
    "            nn.Linear(in_features=20, out_features=1),\n",
    "            nn.Sigmoid()\n",
    "        )\n",
    "\n",
    "    def forward(self, x):\n",
    "        return self.se(x)"
   ]
  },
  {
   "cell_type": "code",
   "execution_count": 1,
   "metadata": {},
   "outputs": [
    {
     "ename": "NameError",
     "evalue": "name 'nn' is not defined",
     "output_type": "error",
     "traceback": [
      "\u001b[1;31m---------------------------------------------------------------------------\u001b[0m",
      "\u001b[1;31mNameError\u001b[0m                                 Traceback (most recent call last)",
      "Cell \u001b[1;32mIn[1], line 1\u001b[0m\n\u001b[1;32m----> 1\u001b[0m loss_fn \u001b[38;5;241m=\u001b[39m \u001b[43mnn\u001b[49m\u001b[38;5;241m.\u001b[39mBCELoss()\n\u001b[0;32m      2\u001b[0m optimizer \u001b[38;5;241m=\u001b[39m torch\u001b[38;5;241m.\u001b[39moptim\u001b[38;5;241m.\u001b[39mAdam(model\u001b[38;5;241m.\u001b[39mparameters(), lr\u001b[38;5;241m=\u001b[39m\u001b[38;5;241m0.05\u001b[39m)\n",
      "\u001b[1;31mNameError\u001b[0m: name 'nn' is not defined"
     ]
    }
   ],
   "source": [
    "loss_fn = nn.BCELoss()\n",
    "optimizer = torch.optim.Adam(model.parameters(), lr=0.05)"
   ]
  },
  {
   "cell_type": "code",
   "execution_count": 52,
   "metadata": {},
   "outputs": [
    {
     "data": {
      "text/plain": [
       "model(\n",
       "  (se): Sequential(\n",
       "    (0): Embedding(50000, 64)\n",
       "    (1): Flatten(start_dim=1, end_dim=-1)\n",
       "    (2): Linear(in_features=64, out_features=20, bias=True)\n",
       "    (3): ReLU()\n",
       "    (4): Linear(in_features=20, out_features=1, bias=True)\n",
       "    (5): Sigmoid()\n",
       "  )\n",
       ")"
      ]
     },
     "execution_count": 52,
     "metadata": {},
     "output_type": "execute_result"
    }
   ],
   "source": [
    "model = model(vocab_size=vocab_size, embedding_dim=embedding_dim)\n",
    "model"
   ]
  },
  {
   "cell_type": "code",
   "execution_count": 53,
   "metadata": {},
   "outputs": [
    {
     "data": {
      "text/plain": [
       "'cpu'"
      ]
     },
     "execution_count": 53,
     "metadata": {},
     "output_type": "execute_result"
    }
   ],
   "source": [
    "device = 'cuda' if torch.cuda.is_available() else 'cpu'"
   ]
  },
  {
   "cell_type": "code",
   "execution_count": null,
   "metadata": {},
   "outputs": [],
   "source": [
    "# Write a training and evaluationg loop for model_1\n",
    "torch.manual_seed(42)\n",
    "torch.cuda.manual_seed(42)\n",
    "\n",
    "# Train for longer\n",
    "epochs = 1000\n",
    "\n",
    "# Put data on the target device\n",
    "X_train, y_train = X_train.to(device), y_train.to(device)\n",
    "X_test, y_test=  X_test.to(device), y_test.to(device)\n",
    "\n",
    "for epoch in range (epochs):\n",
    "  ### Training\n",
    "  model.train()\n",
    "\n",
    "  # 1. Forward\n",
    "  y_logits = model(X_train).squeeze()\n",
    "  y_pred = torch.round(torch.sigmoid(y_logits)) # logits -> pred probabilities -> predict\n",
    "\n",
    "  # 2. Calculate the loss/acc\n",
    "  loss = loss_fn(y_logits, y_train)\n",
    "  acc = accuracy_fn(y_train,\n",
    "                    y_pred)\n",
    "\n",
    "  # 3. Optimizer zero grad\n",
    "  optimizer.zero_grad()\n",
    "\n",
    "  # 4. Loss backwards\n",
    "  loss.backward()\n",
    "\n",
    "  # 5. Optimizer step\n",
    "  optimizer.step()\n",
    "\n",
    "  ### Testing\n",
    "  model.eval()\n",
    "  with torch.inference_mode():\n",
    "    # 1. Forward pass\n",
    "    test_logits = model(X_test).squeeze()\n",
    "    test_pred = torch.round(torch.sigmoid(test_logits))\n",
    "    # 2. Calculate loss\n",
    "    test_loss = loss_fn(test_logits,\n",
    "                        y_test)\n",
    "    test_acc = accuracy_fn(y_test,\n",
    "                           test_pred)\n",
    "  # Print out what happening\n",
    "  if epoch%100==0:\n",
    "    print(f\"Epoch: {epoch} | Loss: {loss:.5f}, Acc: {acc:.2f}% | Test loss: {test_loss:.5f}, Test acc: {test_acc:.2f}%\")\n"
   ]
  },
  {
   "cell_type": "code",
   "execution_count": 122,
   "metadata": {},
   "outputs": [
    {
     "name": "stdout",
     "output_type": "stream",
     "text": [
      "Epoch 1/3\n",
      "874/874 [==============================] - 70s 77ms/step - loss: 0.3505 - acc: 0.8647 - val_loss: 0.3070 - val_acc: 0.8850\n",
      "Epoch 2/3\n",
      "874/874 [==============================] - 49s 56ms/step - loss: 0.2250 - acc: 0.9097 - val_loss: 0.3165 - val_acc: 0.8853\n",
      "Epoch 3/3\n",
      "874/874 [==============================] - 46s 53ms/step - loss: 0.1409 - acc: 0.9468 - val_loss: 0.3800 - val_acc: 0.8821\n"
     ]
    },
    {
     "data": {
      "text/plain": [
       "<keras.src.callbacks.History at 0x25ea8b0ca50>"
      ]
     },
     "execution_count": 122,
     "metadata": {},
     "output_type": "execute_result"
    }
   ],
   "source": [
    "model.fit(padded_X_train_sequences, y_train, epochs=3, validation_data=(padded_test_sequences, y_val))"
   ]
  },
  {
   "cell_type": "markdown",
   "metadata": {},
   "source": [
    "## Lưu model"
   ]
  },
  {
   "cell_type": "code",
   "execution_count": 123,
   "metadata": {},
   "outputs": [
    {
     "name": "stderr",
     "output_type": "stream",
     "text": [
      "c:\\Users\\admin\\AppData\\Local\\Programs\\Python\\Python311\\Lib\\site-packages\\keras\\src\\engine\\training.py:3079: UserWarning: You are saving your model as an HDF5 file via `model.save()`. This file format is considered legacy. We recommend using instead the native Keras format, e.g. `model.save('my_model.keras')`.\n",
      "  saving_api.save_model(\n"
     ]
    }
   ],
   "source": [
    "# Saving our PyTorch model\n",
    "from pathlib import Path\n",
    "\n",
    "# 1. Create model directory\n",
    "MODEL_PATH = \"E:\\\\AI Project\\\\\"\n",
    "\n",
    "# 3. Save the model state dict\n",
    "model.save('my_model.h5')"
   ]
  },
  {
   "cell_type": "markdown",
   "metadata": {},
   "source": [
    "## Load model"
   ]
  },
  {
   "cell_type": "code",
   "execution_count": 124,
   "metadata": {},
   "outputs": [],
   "source": [
    "from tensorflow.keras.models import load_model\n",
    "loaded_model = load_model('my_model.h5')"
   ]
  },
  {
   "cell_type": "markdown",
   "metadata": {},
   "source": [
    "## Dự đoán"
   ]
  },
  {
   "cell_type": "markdown",
   "metadata": {},
   "source": [
    "### Nhập câu muốn dự đoán"
   ]
  },
  {
   "cell_type": "code",
   "execution_count": 125,
   "metadata": {},
   "outputs": [],
   "source": [
    "test_sentences = [  \"Đồ ngu, sao mày ngu thế?\",\n",
    "                    \"Con này xấu xí, béo ú, chẳng ra gì cả.\",\n",
    "                    \"Đồ đàn bà con gái chỉ biết ăn bám đàn ông.\",\n",
    "                    \"Sản phẩm này tệ hại, ai mua cũng hối hận.\",\n",
    "                    \"Mày hát dở tệ, đừng bao giờ hát nữa nhé.\",\n",
    "                    \"Mày dám nói tao ngu à? Thử lặp lại lần nữa xem!\",\n",
    "                    \"Đời mày xuống lỗ rồi con ạ\",\n",
    "                    \"Ngu thì nín :))\",\n",
    "                    \"khôn như vợ chồng nhà này k biết bao giờ mới giỗ đầu bạn nhỉ :))\",\n",
    "                    \"toàn cái bọn lúc vay muốn dc vc.khi xong vc rồi thì vẩy đuôi b oi.giải thích bọn nó cố tính đéo hiểu đâu.còn vay gì trả đấy đơn giản chỉ thế.\",\n",
    "                    \"sản phẩm này bố ỉa vào mà mua\"\n",
    "]"
   ]
  },
  {
   "cell_type": "code",
   "execution_count": 126,
   "metadata": {},
   "outputs": [],
   "source": [
    "def predict(test_sentences):\n",
    "    test_seq = tokenize(test_sentences)\n",
    "    test_seq = lower_and_remove_stopwords(test_seq)\n",
    "    test_seq = remove_links_hashtag_tag(test_seq)\n",
    "    test_seq = tokenizer.texts_to_sequences([test_seq])\n",
    "    # print(test_seq)\n",
    "    test_seq = pad_sequences(test_seq, maxlen=max_length, padding='post',truncating='post')\n",
    "    # print(test_seq.shape, test_seq)\n",
    "    print(loaded_model.predict(test_seq))"
   ]
  },
  {
   "cell_type": "code",
   "execution_count": 127,
   "metadata": {},
   "outputs": [
    {
     "name": "stdout",
     "output_type": "stream",
     "text": [
      "1/1 [==============================] - 0s 102ms/step\n",
      "[[0.9667361]]\n",
      "1/1 [==============================] - 0s 47ms/step\n",
      "[[0.6757173]]\n",
      "1/1 [==============================] - 0s 50ms/step\n"
     ]
    },
    {
     "name": "stdout",
     "output_type": "stream",
     "text": [
      "[[0.72355354]]\n",
      "1/1 [==============================] - 0s 54ms/step\n",
      "[[0.35801852]]\n",
      "1/1 [==============================] - 0s 35ms/step\n",
      "[[0.6409282]]\n",
      "1/1 [==============================] - 0s 32ms/step\n",
      "[[0.8147318]]\n",
      "1/1 [==============================] - 0s 32ms/step\n",
      "[[0.1019125]]\n",
      "1/1 [==============================] - 0s 32ms/step\n",
      "[[0.7510088]]\n",
      "1/1 [==============================] - 0s 35ms/step\n",
      "[[0.17122033]]\n",
      "1/1 [==============================] - 0s 32ms/step\n",
      "[[0.76874113]]\n",
      "1/1 [==============================] - 0s 31ms/step\n",
      "[[0.2812712]]\n"
     ]
    }
   ],
   "source": [
    "for sentence in test_sentences:\n",
    "    predict(sentence)"
   ]
  },
  {
   "cell_type": "code",
   "execution_count": 128,
   "metadata": {},
   "outputs": [],
   "source": [
    "# \"Đồ ngu, sao mày ngu thế?\", 1\n",
    "# \"Con này xấu xí, béo ú, chẳng ra gì cả.\", 1\n",
    "# \"Đồ đàn bà con gái chỉ biết ăn bám đàn ông.\",\n",
    "# \"Sản phẩm này tệ hại, ai mua cũng hối hận.\",\n",
    "# \"Mày hát dở tệ, đừng bao giờ hát nữa nhé.\", 0 \n",
    "# \"Mày dám nói tao ngu à? Thử lặp lại lần nữa xem!\",\n",
    "# \"Đời mày xuống lỗ rồi con ạ\", 0\n",
    "# \"Ngu thì nín :))\",\n",
    "# \"khôn như vợ chồng nhà này k biết bao giờ mới giỗ đầu bạn nhỉ :))\", 0 \n",
    "# \"toàn cái bọn lúc vay muốn dc vc.khi xong vc rồi thì vẩy đuôi b oi.g\n",
    "# \"sản phẩm này bố ỉa vào mà mua\""
   ]
  },
  {
   "cell_type": "code",
   "execution_count": 129,
   "metadata": {},
   "outputs": [],
   "source": [
    "# import csv\n",
    "# filename = \"E:\\\\AI Project\\\\word2vec_vi_syllables_100dims.txt\"\n",
    "# chunksize = 10 ** 6\n",
    "# for chunk in pd.read_csv(filename, chunksize=chunksize, on_bad_lines='skip', quoting=csv.QUOTE_NONE, encoding='utf-8'):\n",
    "#     # chunk is a DataFrame. To \"process\" the rows in the chunk:\n",
    "#     for index, row in chunk.iterrows():\n",
    "#         print(row)"
   ]
  },
  {
   "cell_type": "code",
   "execution_count": 130,
   "metadata": {},
   "outputs": [
    {
     "name": "stdout",
     "output_type": "stream",
     "text": [
      "240/240 [==============================] - 1s 5ms/step\n"
     ]
    },
    {
     "data": {
      "text/plain": [
       "tensor([[1],\n",
       "        [0],\n",
       "        [0],\n",
       "        [0],\n",
       "        [0]])"
      ]
     },
     "execution_count": 130,
     "metadata": {},
     "output_type": "execute_result"
    }
   ],
   "source": [
    "predict = loaded_model.predict(X_test_padded)\n",
    "predict = torch.tensor(predict)\n",
    "predict = predict.round().type(torch.int64)\n",
    "predict[:5]"
   ]
  },
  {
   "cell_type": "code",
   "execution_count": 131,
   "metadata": {},
   "outputs": [
    {
     "data": {
      "text/plain": [
       "tensor([1, 0, 0,  ..., 0, 1, 1])"
      ]
     },
     "execution_count": 131,
     "metadata": {},
     "output_type": "execute_result"
    }
   ],
   "source": [
    "predict.squeeze()"
   ]
  },
  {
   "cell_type": "code",
   "execution_count": 132,
   "metadata": {},
   "outputs": [
    {
     "data": {
      "text/plain": [
       "torch.Size([7680, 1])"
      ]
     },
     "execution_count": 132,
     "metadata": {},
     "output_type": "execute_result"
    }
   ],
   "source": [
    "predict.shape"
   ]
  },
  {
   "cell_type": "code",
   "execution_count": 133,
   "metadata": {},
   "outputs": [
    {
     "data": {
      "text/plain": [
       "tensor([1, 1, 0,  ..., 0, 0, 0])"
      ]
     },
     "execution_count": 133,
     "metadata": {},
     "output_type": "execute_result"
    }
   ],
   "source": [
    "y_test = torch.tensor(y_test)\n",
    "y_test"
   ]
  },
  {
   "cell_type": "code",
   "execution_count": 134,
   "metadata": {},
   "outputs": [
    {
     "data": {
      "text/plain": [
       "torch.Size([7680])"
      ]
     },
     "execution_count": 134,
     "metadata": {},
     "output_type": "execute_result"
    }
   ],
   "source": [
    "y_test.shape"
   ]
  },
  {
   "cell_type": "code",
   "execution_count": 135,
   "metadata": {},
   "outputs": [],
   "source": [
    "ls = torch.eq(predict.squeeze(), y_test.squeeze())"
   ]
  },
  {
   "cell_type": "code",
   "execution_count": 136,
   "metadata": {},
   "outputs": [
    {
     "data": {
      "text/plain": [
       "6770"
      ]
     },
     "execution_count": 136,
     "metadata": {},
     "output_type": "execute_result"
    }
   ],
   "source": [
    "cnt = 0\n",
    "for i in ls:\n",
    "    if i:\n",
    "        cnt += 1\n",
    "cnt"
   ]
  },
  {
   "cell_type": "code",
   "execution_count": 137,
   "metadata": {},
   "outputs": [
    {
     "data": {
      "text/plain": [
       "0.8005208333333333"
      ]
     },
     "execution_count": 137,
     "metadata": {},
     "output_type": "execute_result"
    }
   ],
   "source": [
    "6148/7680"
   ]
  },
  {
   "cell_type": "code",
   "execution_count": 138,
   "metadata": {},
   "outputs": [
    {
     "data": {
      "text/plain": [
       "tensor([False])"
      ]
     },
     "execution_count": 138,
     "metadata": {},
     "output_type": "execute_result"
    }
   ],
   "source": [
    "predict[0]==0"
   ]
  },
  {
   "cell_type": "code",
   "execution_count": 139,
   "metadata": {},
   "outputs": [
    {
     "name": "stdout",
     "output_type": "stream",
     "text": [
      "tensor([ True, False,  True,  ...,  True, False, False])\n"
     ]
    }
   ],
   "source": [
    "print(torch.eq(predict.squeeze(), y_test.squeeze()))"
   ]
  },
  {
   "cell_type": "code",
   "execution_count": 140,
   "metadata": {},
   "outputs": [
    {
     "data": {
      "text/plain": [
       "6265     0\n",
       "22118    1\n",
       "11284    0\n",
       "11964    0\n",
       "21575    0\n",
       "29802    0\n",
       "5390     0\n",
       "860      0\n",
       "15795    1\n",
       "23654    0\n",
       "Name: Toxicity, dtype: int64"
      ]
     },
     "execution_count": 140,
     "metadata": {},
     "output_type": "execute_result"
    }
   ],
   "source": [
    "y_train[-10:]"
   ]
  }
 ],
 "metadata": {
  "kernelspec": {
   "display_name": "Python 3",
   "language": "python",
   "name": "python3"
  },
  "language_info": {
   "codemirror_mode": {
    "name": "ipython",
    "version": 3
   },
   "file_extension": ".py",
   "mimetype": "text/x-python",
   "name": "python",
   "nbconvert_exporter": "python",
   "pygments_lexer": "ipython3",
   "version": "3.11.1"
  }
 },
 "nbformat": 4,
 "nbformat_minor": 2
}
